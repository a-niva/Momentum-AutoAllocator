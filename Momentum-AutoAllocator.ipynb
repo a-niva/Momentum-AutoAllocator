{
 "cells": [
  {
   "cell_type": "code",
   "execution_count": 3,
   "id": "44e5ee22-d65d-44d2-a4c2-7bbb42599856",
   "metadata": {},
   "outputs": [
    {
     "data": {
      "application/vnd.jupyter.widget-view+json": {
       "model_id": "edb8db5b7dd7416a9a1765ac4813874d",
       "version_major": 2,
       "version_minor": 0
      },
      "text/plain": [
       "IntSlider(value=10, continuous_update=False, description='Top N Stocks:', max=931, min=1)"
      ]
     },
     "metadata": {},
     "output_type": "display_data"
    },
    {
     "data": {
      "application/vnd.jupyter.widget-view+json": {
       "model_id": "629c981eb7a34bbdb723e329ff0a84a8",
       "version_major": 2,
       "version_minor": 0
      },
      "text/plain": [
       "IntSlider(value=10, continuous_update=False, description='Clusters:', max=931, min=1)"
      ]
     },
     "metadata": {},
     "output_type": "display_data"
    },
    {
     "data": {
      "application/vnd.jupyter.widget-view+json": {
       "model_id": "fc2ee91ce5574d74947e1a1e895da95e",
       "version_major": 2,
       "version_minor": 0
      },
      "text/plain": [
       "FloatText(value=1000.0, description='Total Amount (€):', style=DescriptionStyle(description_width='initial'))"
      ]
     },
     "metadata": {},
     "output_type": "display_data"
    },
    {
     "data": {
      "application/vnd.jupyter.widget-view+json": {
       "model_id": "596ca7f52789439a88e8e15a6951a808",
       "version_major": 2,
       "version_minor": 0
      },
      "text/plain": [
       "FloatText(value=0.6, description='Momentum Weight:', style=DescriptionStyle(description_width='initial'))"
      ]
     },
     "metadata": {},
     "output_type": "display_data"
    },
    {
     "data": {
      "application/vnd.jupyter.widget-view+json": {
       "model_id": "a73877e637a04218ac970a78c048b542",
       "version_major": 2,
       "version_minor": 0
      },
      "text/plain": [
       "FloatText(value=0.4, description='Sharpe Weight:', style=DescriptionStyle(description_width='initial'))"
      ]
     },
     "metadata": {},
     "output_type": "display_data"
    },
    {
     "data": {
      "application/vnd.jupyter.widget-view+json": {
       "model_id": "08b006d7ddb64dd185d99fbae395151b",
       "version_major": 2,
       "version_minor": 0
      },
      "text/plain": [
       "FloatText(value=0.25, description='Max Volatility:', style=DescriptionStyle(description_width='initial'))"
      ]
     },
     "metadata": {},
     "output_type": "display_data"
    },
    {
     "data": {
      "application/vnd.jupyter.widget-view+json": {
       "model_id": "1d104a1c4dde478aa9f05de733f8d01b",
       "version_major": 2,
       "version_minor": 0
      },
      "text/plain": [
       "Button(description='Analyze Portfolio', style=ButtonStyle())"
      ]
     },
     "metadata": {},
     "output_type": "display_data"
    },
    {
     "data": {
      "application/vnd.jupyter.widget-view+json": {
       "model_id": "dda5f599182d4bb2a4a96484e8965588",
       "version_major": 2,
       "version_minor": 0
      },
      "text/plain": [
       "Output()"
      ]
     },
     "metadata": {},
     "output_type": "display_data"
    },
    {
     "name": "stderr",
     "output_type": "stream",
     "text": [
      "[                       1%                       ]  13 of 931 completedFailed to get ticker 'EMEIS' reason: ('Connection broken: IncompleteRead(7800 bytes read, 2440 more expected)', IncompleteRead(7800 bytes read, 2440 more expected))\n",
      "[*****                 10%                       ]  93 of 931 completedFailed to get ticker 'ELIS SA' reason: ('Connection broken: IncompleteRead(6500 bytes read, 3740 more expected)', IncompleteRead(6500 bytes read, 3740 more expected))\n",
      "[********************* 44%                       ]  408 of 931 completedFailed to get ticker 'SEB SA' reason: ('Connection broken: IncompleteRead(2760 bytes read, 3384 more expected)', IncompleteRead(2760 bytes read, 3384 more expected))\n",
      "[**********************62%*****                  ]  577 of 931 completedFailed to get ticker 'STEF SA' reason: ('Connection broken: IncompleteRead(2600 bytes read, 7640 more expected)', IncompleteRead(2600 bytes read, 7640 more expected))\n",
      "[*********************100%***********************]  930 of 931 completed"
     ]
    }
   ],
   "source": [
    "import yfinance as yf\n",
    "import pandas as pd\n",
    "import numpy as np\n",
    "from datetime import datetime, timedelta\n",
    "from sklearn.cluster import AgglomerativeClustering\n",
    "from scipy.optimize import minimize\n",
    "import ipywidgets as widgets\n",
    "from IPython.display import display\n",
    "\n",
    "def get_portfolio_performance(data, tickers, top_n=None):\n",
    "    if top_n is None:\n",
    "        top_n = min(10, len(tickers))\n",
    "\n",
    "    end_date = datetime.now()\n",
    "    ytd_start = end_date.replace(month=1, day=1).date()\n",
    "    \n",
    "    if not isinstance(data.index, pd.DatetimeIndex):\n",
    "        data.index = pd.to_datetime(data.index)\n",
    "    \n",
    "    dates = {\n",
    "        'YTD': min(date for date in data.index.date if date >= ytd_start).strftime('%Y-%m-%d'),\n",
    "        '1m': data.index[-22].date().strftime('%Y-%m-%d'),\n",
    "        '1s': data.index[-6].date().strftime('%Y-%m-%d'),\n",
    "        '1j': data.index[-2].date().strftime('%Y-%m-%d')\n",
    "    }\n",
    "    \n",
    "    days_in_topN = {}\n",
    "    entry_dates = {}\n",
    "    consecutive_days = {ticker: 0 for ticker in tickers}\n",
    "    last_seen = {ticker: False for ticker in tickers}\n",
    "    \n",
    "    for day in range(len(data)):\n",
    "        momentum_day = ((data.iloc[day] / data.iloc[0] - 1) * 100).sort_values(ascending=False)\n",
    "        top_day = set(momentum_day.head(top_n).index)\n",
    "        \n",
    "        for ticker in tickers:\n",
    "            if ticker in top_day:\n",
    "                if not last_seen[ticker]:\n",
    "                    entry_dates[ticker] = data.index[day]\n",
    "                consecutive_days[ticker] += 1\n",
    "                last_seen[ticker] = True\n",
    "            else:\n",
    "                if last_seen[ticker]:\n",
    "                    days_in_topN[ticker] = consecutive_days[ticker]\n",
    "                consecutive_days[ticker] = 0\n",
    "                last_seen[ticker] = False\n",
    "    \n",
    "    for ticker in tickers:\n",
    "        if last_seen[ticker]:\n",
    "            days_in_topN[ticker] = consecutive_days[ticker]\n",
    "    \n",
    "    momentum_365 = ((data.iloc[-1] / data.iloc[0] - 1) * 100).sort_values(ascending=False)\n",
    "    momentum_prev = ((data.iloc[-2] / data.iloc[0] - 1) * 100).sort_values(ascending=False)\n",
    "    \n",
    "    current_top = momentum_365.head(top_n)\n",
    "    previous_top = momentum_prev.head(top_n)\n",
    "    \n",
    "    perf_since_entry = {}\n",
    "    for ticker in current_top.index:\n",
    "        if ticker in entry_dates:\n",
    "            entry_price = data[ticker].loc[entry_dates[ticker]]\n",
    "            current_price = data[ticker].iloc[-1]\n",
    "            perf_since_entry[ticker] = ((current_price / entry_price - 1) * 100)\n",
    "    \n",
    "    portfolio_data = data[current_top.index]\n",
    "    \n",
    "    perf = {\n",
    "        '1a': (portfolio_data.iloc[-1] / portfolio_data.iloc[0] - 1).mean() * 100\n",
    "    }\n",
    "    \n",
    "    for period, ref_date_str in dates.items():\n",
    "        ref_date = pd.to_datetime(ref_date_str).date()\n",
    "        ref_idx = portfolio_data.index[portfolio_data.index.date <= ref_date][-1]\n",
    "        ref_data = portfolio_data.loc[ref_idx]\n",
    "        perf[period] = (portfolio_data.iloc[-1] / ref_data - 1).mean() * 100\n",
    "        \n",
    "    val_100 = 100\n",
    "    valorisations = {k: val_100 / (1 + v/100) for k, v in perf.items()}\n",
    "    valorisations['Actuelle'] = val_100\n",
    "    \n",
    "    return current_top, perf, valorisations, set(current_top.index) - set(previous_top.index), set(previous_top.index) - set(current_top.index), days_in_topN, data, perf_since_entry\n",
    "\n",
    "def optimize_vol_constrained(allocation, returns, max_vol):\n",
    "    def portfolio_vol(weights):\n",
    "        return np.sqrt(252) * (returns * weights).sum(axis=1).std()\n",
    "    \n",
    "    def objective(weights):\n",
    "        return -((returns * weights).sum(axis=1).mean() * 252)\n",
    "    \n",
    "    constraints = [\n",
    "        {'type': 'eq', 'fun': lambda x: np.sum(x) - 1},\n",
    "        {'type': 'ineq', 'fun': lambda x: max_vol - portfolio_vol(x)}\n",
    "    ]\n",
    "    bounds = [(0, 0.2) for _ in range(len(returns.columns))]\n",
    "    \n",
    "    result = minimize(objective, allocation/sum(allocation), \n",
    "                    constraints=constraints, bounds=bounds, method='SLSQP')\n",
    "    return result.x * sum(allocation)\n",
    "\n",
    "def get_balanced_portfolio(data, tickers, total_amount=1000, n_clusters=10, momentum_weight=0.6, sharpe_weight=0.4, max_vol=0.25):\n",
    "    returns = data['Adj Close'].pct_change(fill_method=None).fillna(0)\n",
    "    volume = data['Volume'].mean()\n",
    "    \n",
    "    liquid_stocks = volume[volume > volume.quantile(0.2)].index\n",
    "    liquid_returns = returns[liquid_stocks]\n",
    "    \n",
    "    distances = 1 - liquid_returns.corr()\n",
    "    clusters = pd.Series(AgglomerativeClustering(n_clusters=min(n_clusters, len(liquid_stocks)), \n",
    "                                                 distance_threshold=None,\n",
    "                                                 metric='precomputed',\n",
    "                                                 linkage='single')\n",
    "                         .fit_predict(distances), index=liquid_returns.columns)\n",
    "    \n",
    "    vol = liquid_returns.std() * np.sqrt(252)\n",
    "    momentum = ((data['Adj Close'][liquid_stocks].iloc[-1] / \n",
    "                 data['Adj Close'][liquid_stocks].iloc[0] - 1) * 100).fillna(0)\n",
    "    sharpe = (liquid_returns.mean() * 252) / vol\n",
    "    \n",
    "    cluster_weights = {}\n",
    "    n_clusters = clusters.max() + 1\n",
    "    for i in range(n_clusters):\n",
    "        cluster_assets = clusters[clusters == i].index\n",
    "        if len(cluster_assets) > 0:\n",
    "            cluster_momentum = momentum[cluster_assets].clip(-100, 100).mean()\n",
    "            cluster_sharpe = sharpe[cluster_assets].clip(-3, 3).mean()\n",
    "            cluster_weights[i] = max(0, np.nansum([momentum_weight * cluster_momentum, sharpe_weight * cluster_sharpe]))\n",
    "    \n",
    "    allocation = pd.Series(0.0, index=liquid_stocks)  # Use float instead of int\n",
    "    if sum(cluster_weights.values()) > 0:\n",
    "        for i, weight in cluster_weights.items():\n",
    "            cluster_assets = clusters[clusters == i].index\n",
    "            if len(cluster_assets) > 0:\n",
    "                asset_scores = (0.7 * momentum[cluster_assets].rank() + \n",
    "                                0.3 * sharpe[cluster_assets].rank()).clip(0, None)\n",
    "                if asset_scores.sum() > 0:\n",
    "                    # Explicitly convert to float to avoid dtype issues\n",
    "                    allocation[cluster_assets] = total_amount * float(weight/sum(cluster_weights.values())) * (asset_scores / asset_scores.sum())\n",
    "    \n",
    "    # Optimisation avec volatilité contrainte\n",
    "    nonzero_allocation = allocation[allocation > 0]\n",
    "    nonzero_returns = liquid_returns[nonzero_allocation.index]\n",
    "    \n",
    "    optimized = optimize_vol_constrained(nonzero_allocation, nonzero_returns, max_vol)\n",
    "    allocation = pd.Series(optimized, index=nonzero_returns.columns)\n",
    "    final_allocation = pd.Series(0.0, index=tickers)\n",
    "    final_allocation[allocation.index] = allocation\n",
    "    \n",
    "    port_weights = final_allocation / total_amount\n",
    "    metrics = {\n",
    "        'return': (returns * port_weights).sum(axis=1).mean() * 252,\n",
    "        'volatility': (returns * port_weights).sum(axis=1).std() * np.sqrt(252),\n",
    "        'sharpe': ((returns * port_weights).sum(axis=1).mean() * 252) / \n",
    "                  ((returns * port_weights).sum(axis=1).std() * np.sqrt(252))\n",
    "    }\n",
    "    \n",
    "    return final_allocation.round(2), metrics, clusters\n",
    "\n",
    "def interactive_portfolio_analysis(TICKERS):\n",
    "    # Create widgets\n",
    "    top_n_slider = widgets.IntSlider(\n",
    "        value=10,\n",
    "        min=1,\n",
    "        max=len(TICKERS),\n",
    "        step=1,\n",
    "        description='Top N Stocks:',\n",
    "        continuous_update=False\n",
    "    )\n",
    "    \n",
    "    clusters_slider = widgets.IntSlider(\n",
    "        value=10,\n",
    "        min=1,\n",
    "        max=len(TICKERS),\n",
    "        step=1,\n",
    "        description='Clusters:',\n",
    "        continuous_update=False\n",
    "    )\n",
    "    \n",
    "    amount_text = widgets.FloatText(\n",
    "        value=1000,\n",
    "        description='Total Amount (€):',\n",
    "        style={'description_width': 'initial'}\n",
    "    )\n",
    "\n",
    "    momentum_weight_text = widgets.FloatText(\n",
    "        value=0.6,\n",
    "        description='Momentum Weight:',\n",
    "        style={'description_width': 'initial'}\n",
    "    )\n",
    "\n",
    "    sharpe_weight_text = widgets.FloatText(\n",
    "        value=0.4,\n",
    "        description='Sharpe Weight:',\n",
    "        style={'description_width': 'initial'}\n",
    "    )\n",
    "\n",
    "    max_vol_text = widgets.FloatText(\n",
    "        value=0.25,\n",
    "        description='Max Volatility:',\n",
    "        style={'description_width': 'initial'}\n",
    "    )\n",
    "    \n",
    "    analyze_button = widgets.Button(description=\"Analyze Portfolio\")\n",
    "    output = widgets.Output()\n",
    "    \n",
    "    def on_analyze_button_clicked(b):\n",
    "        with output:\n",
    "            output.clear_output()\n",
    "            \n",
    "            # Download data\n",
    "            end_date = datetime.now().strftime('%Y-%m-%d')\n",
    "            start_date = (datetime.now() - timedelta(days=366)).strftime('%Y-%m-%d')\n",
    "            data = yf.download(TICKERS, start=start_date, end=end_date)\n",
    "            \n",
    "            # Capture widget values\n",
    "            top_n = top_n_slider.value\n",
    "            n_clusters = clusters_slider.value\n",
    "            total_amount = amount_text.value\n",
    "            momentum_weight = momentum_weight_text.value\n",
    "            sharpe_weight = sharpe_weight_text.value\n",
    "            max_vol = max_vol_text.value\n",
    "            \n",
    "            # Run momentum analysis\n",
    "            print(f\"\\n📊 ANALYSE MOMENTUM TOP {top_n}\")\n",
    "            print(\"=\" * 80)\n",
    "            \n",
    "            top_stocks, perf, vals, entries, exits, days_in_top, momentum_data, perf_since_entry = get_portfolio_performance(\n",
    "                data['Adj Close'], TICKERS, top_n\n",
    "            )\n",
    "            \n",
    "            print(\"\\n🏆 Classement Momentum 365j:\")\n",
    "            print(f\"{'#':2} {'Ticker':6} {'Momentum':>9} {'Jours Top':>11} {'Cours':>10} {'Perf.Entry':>10}\")\n",
    "            print(\"-\" * 80)\n",
    "            for i, (ticker, momentum) in enumerate(top_stocks.items(), 1):\n",
    "                current_price = momentum_data[ticker].iloc[-1]\n",
    "                perf_entry = perf_since_entry.get(ticker, 0)\n",
    "                print(f\"{i:2d} {ticker:6} {momentum:8.1f}% {days_in_top.get(ticker,0):8d}j {current_price:10.2f}€ {perf_entry:9.1f}%\")\n",
    "            \n",
    "            print(\"\\n📈 Performance du portefeuille:\")\n",
    "            print(\"-\" * 40)\n",
    "            print(f\"{'Actuel':12} : {'---':>6} (val. {vals['Actuelle']:6.2f})\")\n",
    "            \n",
    "            periods = {'1j': '1 jour', '1s': '1 semaine', '1m': '1 mois', '1a': '1 an', 'YTD': 'Depuis 01/01'}\n",
    "            for p in ['1j', '1s', '1m', 'YTD', '1a']:\n",
    "                print(f\"{periods[p]:12} : {perf[p]:6.2f}% (val. {vals[p]:6.2f})\")\n",
    "            \n",
    "            if entries or exits:\n",
    "                print(\"\\n🔄 Changements depuis hier:\")\n",
    "                if entries:\n",
    "                    print(f\"  Entrées : {', '.join(entries)}\")\n",
    "                if exits:\n",
    "                    print(f\"  Sorties : {', '.join(exits)}\")\n",
    "            \n",
    "            print(\"\\n\\n💼 ANALYSE PORTEFEUILLE ÉQUILIBRÉ\")\n",
    "            print(\"=\" * 80)\n",
    "            \n",
    "            allocation, metrics, clusters = get_balanced_portfolio(\n",
    "                data, TICKERS, total_amount, n_clusters,\n",
    "                momentum_weight=momentum_weight,\n",
    "                sharpe_weight=sharpe_weight,\n",
    "                max_vol=max_vol\n",
    "            )\n",
    "            \n",
    "            print(\"\\n🔍 Clusters identifiés:\")\n",
    "            for i in range(clusters.max() + 1):\n",
    "                print(f\"\\nCluster {i}: {', '.join(clusters[clusters == i].index)}\")\n",
    "\n",
    "            print(\"\\n💰 Allocation optimisée (€):\")\n",
    "            print(\"-\" * 40)\n",
    "            for ticker, amount in allocation.sort_values(ascending=False).items():\n",
    "                if amount > 0:\n",
    "                    print(f\"{ticker:6}: {amount:7.1f}€\")\n",
    "\n",
    "            print(\"\\n📊 Métriques du portefeuille:\")\n",
    "            print(\"-\" * 40)\n",
    "            print(f\"Sharpe     : {metrics['sharpe']:.2f}\")\n",
    "            print(f\"Volatilité : {metrics['volatility']*100:.1f}%\")\n",
    "            print(f\"Rendement  : {metrics['return']*100:.1f}%\")\n",
    "    \n",
    "    analyze_button.on_click(on_analyze_button_clicked)\n",
    "    \n",
    "    # Display widgets\n",
    "    display(top_n_slider, clusters_slider, amount_text, momentum_weight_text, sharpe_weight_text, max_vol_text, analyze_button, output)\n",
    "\n",
    "\n",
    "# Usage example (commented out)\n",
    "TICKERS = [\n",
    "    \"MC.PA\",\"OR.PA\",\"SU.PA\",\"AIR.PA\",\"TTE.PA\",\"SAN.PA\",\"CDI.PA\",\"EL.PA\",\"SAF.PA\",\"AI.PA\",\"BNP.PA\",\"CS.PA\",\"AXA SA\",\"DG.PA\",\"DSY.PA\",\"SGO.PA\",\"BN.PA\",\"ACA.PA\",\"ENGI.PA\",\"KER.PA\",\"HO.PA\",\"CAP.PA\",\"RI.PA\",\"LR.PA\",\"ORA.PA\",\"PUB.PA\",\n",
    "    \"GLE.PA\",\"ML.PA\",\"DIM.PA\",\"VIE.PA\",\"AM.PA\",\"BOL.PA\",\"RNO.PA\",\"BVI.PA\",\"AMUN.PA\",\"BIM.PA\",\"AC.PA\",\"EN.PA\",\"ENX.PA\",\"ADP.PA\",\"URW.PA\",\"SW.PA\",\"IPN.PA\",\"RNL.PA\",\"ERF.PA\",\"ALO.PA\",\"CA.PA\",\"FGR.PA\",\"LI.PA\",\"GET.PA\",\"EDEN.PA\",\"RXL.PA\",\"IAM.PA\",\n",
    "    \"CBDG.PA\",\"GFC.PA\",\"FDJ.PA\",\"ODET.PA\",\"COTY.PA\",\"AKE.PA\",\"AYV.PA\",\"RF.PA\",\"COV.PA\",\"Covivio\",\"GTT.PA\",\"SPIE.PA\",\"SPIE SA\",\"TEP.PA\",\"SK.PA\",\"SEB SA\",\"TE.PA\",\"ELIS.PA\",\"Elis SA\",\"SCR.PA\",\"SCOR SE\",\"VK.PA\",\"NEX.PA\",\"MF.PA\",\"MLHK.PA\",\"H&K AG\",\n",
    "    \"TKO.PA\",\"FLY.PA\",\"SOP.PA\",\"DEC.PA\",\"PLX.PA\",\"ITP.PA\",\"VRLA.PA\",\"SOI.PA\",\"RCO.PA\",\"COVH.PA\",\"MMB.PA\",\"ATE.PA\",\"VU.PA\",\"FR.PA\",\"IDL.PA\",\"BB.PA\",\"RUI.PA\",\"VIRP.PA\",\"TRI.PA\",\"BAIN.PA\",\"VIV.PA\",\"COFA.PA\",\"CARM.PA\",\"LOUP.PA\",\"NK.PA\",\"WLN.PA\",\n",
    "    \"ALTA.PA\",\"UNBL.PA\",\"IPS.PA\",\"CAF.PA\",\"AF.PA\",\"PLNW.PA\",\"CBE.PA\",\"VCT.PA\",\"PEUG.PA\",\"RBT.PA\",\"EXN.PA\",\"STF.PA\",\"STEF SA\",\"ICAD.PA\",\"SESG.PA\",\"OPM.PA\",\"ERA.PA\",\"ARG.PA\",\"TFI.PA\",\"TF1 SA\",\"UBI.PA\",\"OVH.PA\",\"MMT.PA\",\"ES.PA\",\"BLV.PA\",\"MAU.PA\",\n",
    "    \"GDS.PA\",\"FII.PA\",\"WAVE.PA\",\"EXOSENS\",\"CRLA.PA\",\"NRO.PA\",\"LSS.PA\",\"MERY.PA\",\"EMEIS\",\"ETL.PA\",\"ELEC.PA\",\"FREY.PA\",\"Frey SA\",\"DBG.PA\",\"CNDF.PA\",\"LTA.PA\",\"CDA.PA\",\"FNAC.PA\",\"MTU.PA\",\"VETO.PA\",\"TKTT.PA\",\"VIL.PA\",\"BEN.PA\",\"EC.PA\",\"VAC.PA\",\"SAVE.PA\",\n",
    "    \"BASS.PA\",\"NXI.PA\",\"XFAB.PA\",\"SDG.PA\",\"THEP.PA\",\"CRAV.PA\",\"CRSU.PA\",\"CRAP.PA\",\"CEN.PA\",\"SCHP.PA\",\"TFF.PA\",\"KOF.PA\",\"QDT.PA\",\"LPE.PA\",\"SBT.PA\",\"EQS.PA\",\"BUR.PA\",\"AUB.PA\",\"GLO.PA\",\"NVDA\",\"AAPL\",\"MSFT\",\"AMZN\",\"GOOGL\",\"GOOG\",\"META\",\"TSLA\",\"AVGO\",\n",
    "    \"BRK-B\",\"ORCL\",\"TCEHY\",\"TCTZF\",\"NFLX\",\"COST\",\"NONOF\",\"LVMHF\",\"LVMUY\",\"JPM-PD\",\"JPM-PC\",\"BML-PG\",\"SAPGF\",\"BML-PH\",\"BML-PL\",\"BAC-PE\",\"IDCBY\",\"BAC-PK\",\"SSNLF\",\"ABBV\",\"IDCBF\",\"HESAY\",\"ASMLF\",\"ASML\",\"GDVTZ\",\"ACGBF\",\"TMUS\",\"BML-PJ\",\"BAC-PB\",\"RHHBF\",\n",
    "    \"CSCO\",\"RHHVF\",\"RHHBY\",\"TOYOF\",\"ACGBY\",\"BABAF\",\"AZNCF\",\"BABA\",\"NSRGY\",\"NSRGF\",\"ISRG\",\"CICHY\",\"RYDAF\",\"BACHY\",\"LRLCY\",\"WFC-PY\",\"NVSEF\",\"BACHF\",\"SHEL\",\"CICHF\",\"LRLCF\",\"PCCYF\",\"ADBE\",\"QCOM\",\"HBCYF\",\"HSBC\",\"CMWAY\",\"PLTR\",\"SIEGY\",\"SMAWF\",\"INTU\",\"ANET\",\n",
    "    \"CBAUF\",\"IDEXF\",\"SBGSF\",\"SPGI\",\"IDEXY\",\"SBGSY\",\"MBFJF\",\"DTEGF\",\"AMAT\",\"DTEGY\",\"FMXUF\",\"SCHW\",\"CIHKY\",\"MUFG\",\"AMGN\",\"UBER\",\"CMCSA\",\"UNLYF\",\"SHOP\",\"EADSF\",\"EADSY\",\"BHPLF\",\"SNYNF\",\"TTFNF\",\"SNEJF\",\"CHDRY\",\"CILJF\",\"SONY\",\"CHDRF\",\"WFC-PC\",\"ALIZF\",\"ALIZY\",\n",
    "    \"HTHIF\",\"ESLOY\",\"RTNTF\",\"HTHIY\",\"MPNGF\",\"Meituan\",\"ESLOF\",\"CIHHF\",\"XIACY\",\"MPNGY\",\"PNGAY\",\"XIACF\",\"CIIHF\",\"GILD\",\"PIAIF\",\"VRTX\",\"BYDDF\",\"BYDDY\",\"SBUX\",\"SAFRF\",\"SAFRY\",\"CFRUY\",\"CUAEF\",\"CFRHF\",\"ABBNY\",\"ABLZF\",\"MRVL\",\"KYCCF\",\"RCRUY\",\"UNCFF\",\"UNCRY\",\n",
    "    \"CSUAY\",\"SPOT\",\"FRCOF\",\"RCRRF\",\"LRCX\",\"KLAC\",\"SMFNF\",\"SNPMF\",\"SFTBF\",\"FRCOY\",\"AIQUY\",\"AIQUF\",\"SFTBY\",\"SMFG\",\"RTPPF\",\"BUDFF\",\"USB-PH\",\"IBKR\",\"CRWD\",\"DBSDY\",\"RLXXF\",\"EQIX\",\"RELX\",\"INTC\",\"INFY\",\"IVSXF\",\"PYPL\",\"EBBNF\",\"DBSDF\",\"PROSF\",\"PROSY\",\"GS-PA\",\n",
    "    \"IBDRY\",\"IBDSF\",\"CDNS\",\"NPPXF\",\"IVSBF\",\"ZFSVF\",\"MS-PA\",\"ZURVY\",\"WELL\",\"BNPQF\",\"BNPQY\",\"SNPS\",\"ATLCY\",\"TOELF\",\"BPAQF\",\"AXAHF\",\"AXAHY\",\"CSLLY\",\"MSTR\",\"CMXHF\",\"ATLKY\",\"MS-PK\",\"TOELY\",\"GS-PD\",\"MS-PI\",\"PBR-A\",\"NTTYY\",\"MS-PF\",\"IITSF\",\"BTAFF\",\"BCDRF\",\n",
    "    \"DELL\",\"CTAS\",\"ABNB\",\"MS-PE\",\"AAIGF\",\"LNSTY\",\"LDNXF\",\"ISNPY\",\"RACE\",\"MDLZ\",\"HNHPF\",\"AAGIY\",\"SCCO\",\"DASH\",\"CGXYY\",\"PBCRF\",\"USB-PP\",\"COIN\",\"NTDOF\",\"SBKFF\",\"FTNT\",\"REGN\",\"NTDOY\",\"MURGY\",\"MURGF\",\"PBCRY\",\"ESOCF\",\"WEBNF\",\"ENLAY\",\"NABZY\",\"BKFCF\",\"PSTVY\",\n",
    "    \"GLAXF\",\"BCMXY\",\"TEAM\",\"CHGCY\",\"TKOMF\",\"CHGCF\",\"PSBKF\",\"WDAY\",\"ITOCF\",\"RLLCF\",\"MKGAF\",\"NTES\",\"MKKGY\",\"SHECY\",\"BBVXF\",\"ITOCY\",\"STOHF\",\"RBSPF\",\"TKOMY\",\"DGEAF\",\"EQNR\",\"PPWLM\",\"ADSK\",\"BBVA\",\"RYCEF\",\"DBK.DE\",\"EI.PA\",\"ENEL.MI\",\"FRE.DE\",\"IBE.MC\",\"INGA.AS\",\n",
    "    \"ISP.MI\",\"EOAN.DE\",\"G.MI\",\"ALV.DE\",\"BBVA.MC\",\"BAYN.DE\",\"ABI.BR\",\"ENI.MI\",\"BMW.DE\",\"ASML.AS\",\"DTE.DE\",\"BAS.DE\",\"EURUSD=X\",\"MT.AS\",\"RMS.PA\",\"STLAP.PA\",\"STMPA.PA\",\"V\",\"JPM\",\"JNJ\",\"WMT\",\"PG\",\"MA\",\"DIS\",\"HD\",\"VZ\",\"UNH\",\"KO\",\"PFE\",\"XOM\",\"MRK\",\"NKE\",\"ABT\",\n",
    "    \"PEP\",\"CRM\",\"TMO\",\"MDT\",\"LLY\",\"MS\",\"BA\",\"STLA\",\"NESN.SW\",\"A\",\"AAL\",\"AAP\",\"ACN\",\"ADI\",\"ADM\",\"ADP\",\"AEE\",\"AEP\",\"AES\",\"AFL\",\"AIG\",\"AIV\",\"AIZ\",\"AJG\",\"AKAM\",\"ALB\",\"ALGN\",\"ALK\",\"ALL\",\"ALLE\",\"AMD\",\"AME\",\"AMP\",\"AMT\",\"ANSS\",\"AON\",\"AOS\",\"APA\",\"APD\",\"APH\",\"APTV\",\n",
    "    \"ARE\",\"ATO\",\"AVB\",\"AVY\",\"AWK\",\"AXP\",\"AZO\",\"BAC\",\"BAX\",\"BBY\",\"BDX\",\"BEN\",\"BIIB\",\"BK\",\"BKNG\",\"BKR\",\"BLK\",\"BMY\",\"BR\",\"BSX\",\"BWA\",\"BXP\",\"C\",\"CAG\",\"CAH\",\"CAT\",\"CB\",\"CBOE\",\"CBRE\",\"CCI\",\"CCL\",\"CE\",\"CF\",\"CFG\",\"CHD\",\"CHRW\",\"CHTR\",\"CI\",\"CINF\",\"CL\",\"CLX\",\"CMA\",\"CME\",\n",
    "    \"CMG\",\"CMI\",\"CMS\",\"CNC\",\"CNP\",\"COF\",\"COO\",\"COP\",\"CPB\",\"CPRT\",\"CSX\",\"CVS\",\"CVX\",\"D\",\"DAL\",\"DD\",\"DE\",\"DFS\",\"DG\",\"DGX\",\"DHI\",\"DHR\",\"DLR\",\"DLTR\",\"DOV\",\"DOW\",\"DRI\",\"DTE\",\"DUK\",\"DVA\",\"DVN\",\"DXC\",\"EA\",\"EBAY\",\"ECL\",\"ED\",\"EFX\",\"EIX\",\"EL\",\"EMN\",\"EMR\",\"EOG\",\"EQR\",\"ES\",\n",
    "    \"ESS\",\"ETN\",\"ETR\",\"EVRG\",\"EW\",\"EXC\",\"EXPD\",\"EXPE\",\"EXR\",\"F\",\"FANG\",\"FAST\",\"FCX\",\"FDX\",\"FE\",\"FFIV\",\"FIS\",\"FITB\",\"FLR\",\"FLS\",\"FMC\",\"FOX\",\"FOXA\",\"FTV\",\"GD\",\"GE\",\"GIS\",\"GL\",\"GLW\",\"GM\",\"GPC\",\"GPN\",\"GS\",\"GWW\",\"HAL\",\"HAS\",\"HBAN\",\"HBI\",\"HCA\",\"HCP\",\"HES\",\"HIG\",\"HII\",\n",
    "    \"HLT\",\"HOG\",\"HOLX\",\"HON\",\"HP\",\"HPE\",\"HPQ\",\"HRB\",\"HRL\",\"HSIC\",\"HST\",\"HSY\",\"HUM\",\"IBM\",\"ICE\",\"IDXX\",\"IEX\",\"IFF\",\"ILMN\",\"INCY\",\"INFO\",\"IP\",\"IPG\",\"IPGP\",\"IQV\",\"IR\",\"IRM\",\"IT\",\"ITW\",\"IVZ\",\"J\",\"JBHT\",\"JCI\",\"JKHY\",\"JNPR\",\"JWN\",\"K\",\"KEY\",\"KEYS\",\"KHC\",\"KIM\",\"KMB\",\n",
    "    \"KMI\",\"KMX\",\"KR\",\"KSS\",\"L\",\"LB\",\"LDOS\",\"LEG\",\"LEN\",\"LH\",\"LHX\",\"LIN\",\"LKQ\",\"LMT\",\"LNC\",\"LNT\",\"LOW\",\"LUV\",\"LW\",\"LYB\",\"M\",\"MAA\",\"MAC\",\"MAR\",\"MAS\",\"MCD\",\"MCHP\",\"MCK\",\"MCO\",\"MET\",\"MGM\",\"MHK\",\"MKC\",\"MKTX\",\"MLM\",\"MMC\",\"MMM\",\"MNST\",\"MO\",\"MOS\",\"MPC\",\"MSCI\",\"MSI\",\n",
    "    \"MTB\",\"MTD\",\"MU\",\"NAVI\",\"NCLH\",\"NDAQ\",\"NEE\",\"NEM\",\"NI\",\"NOC\",\"NOV\",\"NRG\",\"NSC\",\"NTAP\",\"NTRS\",\"NUE\",\"NVR\",\"NWL\",\"NWS\",\"NWSA\",\"O\",\"ODFL\",\"OKE\",\"OMC\",\"ORLY\",\"OXY\",\"PAYC\",\"PAYX\",\"PCAR\",\"PEG\",\"PFG\",\"PGR\",\"PH\",\"PHM\",\"PLD\",\"PM\",\"PNC\",\"PNR\",\"PNW\",\"PPG\",\"PPL\",\n",
    "    \"PRGO\",\"PRU\",\"PSA\",\"PSX\",\"PVH\",\"PWR\",\"QRVO\",\"RCL\",\"REG\",\"RF\",\"RHI\",\"RJF\",\"RL\",\"RMD\",\"ROK\",\"ROL\",\"ROP\",\"ROST\",\"RSG\",\"RTX\",\"SBAC\",\"SEE\",\"SHW\",\"SJM\",\"SLB\",\"SLG\",\"SNA\",\"SO\",\"SPG\",\"SRE\",\"STE\",\"STT\",\"STX\",\"STZ\",\"SWK\",\"SWKS\",\"SYY\",\"T\",\"TAP\",\"TDG\",\"TEL\",\"TER\",\n",
    "    \"TFC\",\"TFX\",\"TGT\",\"TJX\",\"TPR\",\"TRMB\",\"TROW\",\"TRV\",\"TSCO\",\"TSN\",\"TT\",\"TTWO\",\"TXN\",\"TXT\",\"TYL\",\"UA\",\"UAA\",\"UAL\",\"UDR\",\"UHS\",\"ULTA\",\"UNM\",\"UNP\",\"UPS\",\"URI\",\"USB\",\"VFC\",\"VLO\",\"VMC\",\"VNO\",\"VRSK\",\"VRSN\",\"VTR\",\"WAB\",\"WAT\",\"WBA\",\"WDC\",\"WEC\",\"WFC\",\"WHR\",\"WM\",\n",
    "    \"WMB\",\"WRB\",\"WU\",\"WY\",\"WYNN\",\"XEL\",\"XRAY\",\"XRX\",\"XYL\",\"YUM\",\"ZBH\",\"ZBRA\",\"ZION\",\"ZTS\",\"ADS.DE\",\"CON.DE\",\"DB1.DE\",\"LHA.DE\",\"LIN.DE\",\"MUV2.DE\",\"RWE.DE\",\"SAP.DE\",\"SIE.DE\",\"VOW3.DE\",\"ZAL.DE\",\"AAL.L\",\"ABF.L\",\"ADM.L\",\"AHT.L\",\"AV.L\",\"BA.L\",\"BARC.L\",\"BATS.L\",\n",
    "    \"BP.L\",\"BTI\",\"CNA.L\",\"DGE.L\",\"GSK.L\",\"HSBA.L\",\"IMB.L\",\"ITV.L\",\"LGEN.L\",\"LLOY.L\",\"RDSA.VI\",\"PUM.DE\",\"NOKIA.HE\",\"2388.HK\",\"1398.HK\",\"600519.SS\",\"601988.SS\",\"601288.SS\",\"601318.SS\",\"000651.SZ\",\"002475.SZ\",\"BHP.AX\",\"CBA.AX\",\"TLS.AX\",\n",
    "    \"WBC.AX\",\"CSL.AX\",\"NAB.AX\",\"ANZ.AX\",\"RIO.AX\",\"QBE.AX\",\"WOW.AX\",\"S32.AX\",\"FMG.AX\",\"MQG.AX\",\"TD.TO\",\"RY.TO\",\"BNS.TO\",\"ENB.TO\",\"SU.TO\",\"CNQ.TO\",\"BMO.TO\",\"SHOP.TO\",\"SLF.TO\",\"MFC.TO\",\"PPL.TO\",\"TRP.TO\",\"TSM\",\"SAP\",\"VOW.DE\",\n",
    "]\n",
    "interactive_portfolio_analysis(TICKERS)"
   ]
  }
 ],
 "metadata": {
  "kernelspec": {
   "display_name": "Python (jupyterlab_env)",
   "language": "python",
   "name": "jupyterlab_env"
  },
  "language_info": {
   "codemirror_mode": {
    "name": "ipython",
    "version": 3
   },
   "file_extension": ".py",
   "mimetype": "text/x-python",
   "name": "python",
   "nbconvert_exporter": "python",
   "pygments_lexer": "ipython3",
   "version": "3.9.19"
  },
  "widgets": {
   "application/vnd.jupyter.widget-state+json": {
    "state": {
     "08b006d7ddb64dd185d99fbae395151b": {
      "model_module": "@jupyter-widgets/controls",
      "model_module_version": "2.0.0",
      "model_name": "FloatTextModel",
      "state": {
       "description": "Max Volatility:",
       "layout": "IPY_MODEL_f3a5a0ba1b5a46a8847a450c2e6620ca",
       "step": null,
       "style": "IPY_MODEL_2be6d2200b3c442da20dd00f70c50fe7",
       "value": 0.3
      }
     },
     "0c36eea3a4a04fb48c3386b32a737ebc": {
      "model_module": "@jupyter-widgets/controls",
      "model_module_version": "2.0.0",
      "model_name": "ButtonStyleModel",
      "state": {
       "font_family": null,
       "font_size": null,
       "font_style": null,
       "font_variant": null,
       "font_weight": null,
       "text_color": null,
       "text_decoration": null
      }
     },
     "0d566a26679c4a8590586f6f90ab98c1": {
      "model_module": "@jupyter-widgets/base",
      "model_module_version": "2.0.0",
      "model_name": "LayoutModel",
      "state": {}
     },
     "0e42d8bdd2fb47ddbdac4c215a2f5167": {
      "model_module": "@jupyter-widgets/controls",
      "model_module_version": "2.0.0",
      "model_name": "FloatTextModel",
      "state": {
       "description": "Total Amount (€):",
       "layout": "IPY_MODEL_63941fffbf084a3c82e5e584567feae4",
       "step": null,
       "style": "IPY_MODEL_43490d7472414421904dd6fe36ddd62e",
       "value": 1000
      }
     },
     "1427aadd4a8b44dbbe1a71eb58286162": {
      "model_module": "@jupyter-widgets/base",
      "model_module_version": "2.0.0",
      "model_name": "LayoutModel",
      "state": {}
     },
     "1a42c6629548402b922f9ae902b5f4b2": {
      "model_module": "@jupyter-widgets/controls",
      "model_module_version": "2.0.0",
      "model_name": "DescriptionStyleModel",
      "state": {
       "description_width": "initial"
      }
     },
     "1bce71fcd178454da219a7b8e2a09db3": {
      "model_module": "@jupyter-widgets/controls",
      "model_module_version": "2.0.0",
      "model_name": "IntSliderModel",
      "state": {
       "behavior": "drag-tap",
       "continuous_update": false,
       "description": "Top N Stocks:",
       "layout": "IPY_MODEL_7820683dbc394f269c79f8a12451a12a",
       "max": 26,
       "min": 1,
       "style": "IPY_MODEL_adf9f9aebc22434ab45f47622e810968",
       "value": 9
      }
     },
     "1c1c4906cf674de494fbb41c4fe9f810": {
      "model_module": "@jupyter-widgets/base",
      "model_module_version": "2.0.0",
      "model_name": "LayoutModel",
      "state": {}
     },
     "1d104a1c4dde478aa9f05de733f8d01b": {
      "model_module": "@jupyter-widgets/controls",
      "model_module_version": "2.0.0",
      "model_name": "ButtonModel",
      "state": {
       "description": "Analyze Portfolio",
       "layout": "IPY_MODEL_b85646e0277c4cf3ac6d5e83e0eabd4a",
       "style": "IPY_MODEL_fb1a1f9657294c01b29f64021d64eeae",
       "tooltip": null
      }
     },
     "1dc8299153474401a709a71130e7653b": {
      "model_module": "@jupyter-widgets/controls",
      "model_module_version": "2.0.0",
      "model_name": "DescriptionStyleModel",
      "state": {
       "description_width": "initial"
      }
     },
     "1f06fc9ecf1842189c4a968cdbf4a5ee": {
      "model_module": "@jupyter-widgets/controls",
      "model_module_version": "2.0.0",
      "model_name": "SliderStyleModel",
      "state": {
       "description_width": ""
      }
     },
     "226e8a42fb0449248c204e1670f9c0b7": {
      "model_module": "@jupyter-widgets/base",
      "model_module_version": "2.0.0",
      "model_name": "LayoutModel",
      "state": {}
     },
     "2ab8aed6bd274549a2de68f953cccd6b": {
      "model_module": "@jupyter-widgets/base",
      "model_module_version": "2.0.0",
      "model_name": "LayoutModel",
      "state": {}
     },
     "2bce86422a584ab59db6677e04691b42": {
      "model_module": "@jupyter-widgets/controls",
      "model_module_version": "2.0.0",
      "model_name": "ButtonModel",
      "state": {
       "description": "Analyze Portfolio",
       "layout": "IPY_MODEL_fe447d5a1e4a4250afe79e66dacd8406",
       "style": "IPY_MODEL_0c36eea3a4a04fb48c3386b32a737ebc",
       "tooltip": null
      }
     },
     "2be6d2200b3c442da20dd00f70c50fe7": {
      "model_module": "@jupyter-widgets/controls",
      "model_module_version": "2.0.0",
      "model_name": "DescriptionStyleModel",
      "state": {
       "description_width": "initial"
      }
     },
     "3bcb56c1ca524390b9e278fd39b8bebe": {
      "model_module": "@jupyter-widgets/controls",
      "model_module_version": "2.0.0",
      "model_name": "DescriptionStyleModel",
      "state": {
       "description_width": "initial"
      }
     },
     "3d87701d402d4e0fa63c231a537a8f40": {
      "model_module": "@jupyter-widgets/controls",
      "model_module_version": "2.0.0",
      "model_name": "ButtonStyleModel",
      "state": {
       "font_family": null,
       "font_size": null,
       "font_style": null,
       "font_variant": null,
       "font_weight": null,
       "text_color": null,
       "text_decoration": null
      }
     },
     "3d998fbf82a94c68b5ad1f37c49a6f47": {
      "model_module": "@jupyter-widgets/controls",
      "model_module_version": "2.0.0",
      "model_name": "FloatTextModel",
      "state": {
       "description": "Momentum Weight:",
       "layout": "IPY_MODEL_af28a1f0eba5490cbc5841606c295750",
       "step": null,
       "style": "IPY_MODEL_81cfaf4b186f4e6c93f8aae587ed167b",
       "value": 0.6
      }
     },
     "3f6580142b304d47a022bbdfec5e4c13": {
      "model_module": "@jupyter-widgets/controls",
      "model_module_version": "2.0.0",
      "model_name": "DescriptionStyleModel",
      "state": {
       "description_width": "initial"
      }
     },
     "43490d7472414421904dd6fe36ddd62e": {
      "model_module": "@jupyter-widgets/controls",
      "model_module_version": "2.0.0",
      "model_name": "DescriptionStyleModel",
      "state": {
       "description_width": "initial"
      }
     },
     "459aaad966124871ba2abd6304eeb594": {
      "model_module": "@jupyter-widgets/controls",
      "model_module_version": "2.0.0",
      "model_name": "DescriptionStyleModel",
      "state": {
       "description_width": "initial"
      }
     },
     "4d9e9b2b2dd1457a800d1d143a71da32": {
      "model_module": "@jupyter-widgets/controls",
      "model_module_version": "2.0.0",
      "model_name": "FloatTextModel",
      "state": {
       "description": "Max Volatility:",
       "layout": "IPY_MODEL_aa7316c0a5104b30a33c4b35fb5bdba3",
       "step": null,
       "style": "IPY_MODEL_bc33f433a1654caea338c7b6d1374946",
       "value": 0.3
      }
     },
     "4e00026a47624ddea0986ba7e9551ec5": {
      "model_module": "@jupyter-widgets/controls",
      "model_module_version": "2.0.0",
      "model_name": "FloatTextModel",
      "state": {
       "description": "Max Volatility:",
       "layout": "IPY_MODEL_df58a8bcb93a4f89b99f76d5cbdb26f1",
       "step": null,
       "style": "IPY_MODEL_1dc8299153474401a709a71130e7653b",
       "value": 0.3
      }
     },
     "596ca7f52789439a88e8e15a6951a808": {
      "model_module": "@jupyter-widgets/controls",
      "model_module_version": "2.0.0",
      "model_name": "FloatTextModel",
      "state": {
       "description": "Momentum Weight:",
       "layout": "IPY_MODEL_e60791c697254a9b8ccdca144f9f6928",
       "step": null,
       "style": "IPY_MODEL_459aaad966124871ba2abd6304eeb594",
       "value": 0.6
      }
     },
     "59c6cd7c10d641e381a653cd17f9c28a": {
      "model_module": "@jupyter-widgets/output",
      "model_module_version": "1.0.0",
      "model_name": "OutputModel",
      "state": {
       "layout": "IPY_MODEL_5ba4baa176c84027a38a2dd165569111",
       "outputs": [
        {
         "name": "stderr",
         "output_type": "stream",
         "text": "[*********************100%***********************]  931 of 931 completed\n\n931 Failed downloads:\n['TROW', 'KHC', 'AKAM', 'AMAT', 'SBAC', 'ADBE', 'TRP.TO', 'JPM-PD', 'NVR', 'FRCOY', 'TD.TO', 'MSCI', 'EOG', 'DTE', 'CRM', 'AIR.PA', 'ISP.MI', 'BIIB', 'FMXUF', 'SAP', 'SHW', 'ROST', 'ANET', 'LHA.DE', 'UDR', 'SNEJF', 'ESS', 'GOOG', 'EVRG', 'GET.PA', 'WM', 'AV.L', 'CFG', 'KO', 'SCR.PA', 'ANZ.AX', 'CAT', 'PROSF', 'NOKIA.HE', 'BATS.L', 'NWS', 'ES', 'WU', 'ITP.PA', 'OMC', 'WBC.AX', 'EXR', 'PH', 'ESOCF', 'NCLH', 'WEBNF', 'BYDDY', 'BAC-PB', 'EADSF', 'TKOMF', 'IVSBF', 'KER.PA', 'NK.PA', 'DTE.DE', 'BDX', 'KSS', 'AFL', 'RXL.PA', 'ZION', 'APA', 'LLY', 'YUM', 'IVZ', 'FNAC.PA', 'G.MI', 'CGXYY', 'TEL', 'NUE', 'RY.TO', 'CNP', 'CSUAY', 'PFG', 'HOG', 'NEX.PA', 'EMN', 'GD', 'BEN', 'URW.PA', 'CLX', 'PUB.PA', 'GTT.PA', 'XFAB.PA', 'EQR', 'UPS', 'MNST', 'CICHF', 'MURGY', 'FOXA', 'PPG', 'TKOMY', 'MS-PF', 'STE', 'VIRP.PA', 'INFO', 'HNHPF', 'MMT.PA', 'RBSPF', 'BN.PA', 'CHRW', 'TAP', 'FTV', 'THEP.PA', 'MAA', 'BNP.PA', 'AMD', 'HLT', 'ALK', 'SBUX', 'HPE', 'HSY', 'SNA', 'RIO.AX', 'IBM', 'ZURVY', 'NRO.PA', 'LKQ', 'SAPGF', 'SAVE.PA', 'BHPLF', 'PBR-A', 'RMD', 'NAVI', 'CE', 'CARM.PA', 'LRLCF', 'MBFJF', 'ZTS', 'TRV', 'WDC', 'AAIGF', 'BKNG', 'GPN', 'NTAP', 'MET', 'FE', 'BBVA.MC', 'DG', 'BIM.PA', 'AC.PA', 'EL', 'ORCL', 'SWK', 'ARE', 'IPG', 'DVN', 'GL', 'ADM.L', 'AVGO', 'ITV.L', 'EBBNF', 'RACE', 'WFC', 'HO.PA', '1398.HK', 'CRAV.PA', 'BEN.PA', 'SGO.PA', '601288.SS', 'IITSF', 'LR.PA', 'NOV', 'BCDRF', 'BPAQF', 'FIS', 'SBT.PA', 'TTWO', 'DTEGF', 'CMCSA', 'SSNLF', 'QDT.PA', 'UNP', 'ESLOF', 'JNPR', 'ENI.MI', 'MS-PK', 'SPIE.PA', 'INTC', 'RBT.PA', 'SNPMF', 'MAC', 'AMT', 'IT', 'MAU.PA', 'MMC', 'PEP', 'AMP', 'MUFG', 'PBCRY', 'BLV.PA', 'MDLZ', 'IQV', 'ZBRA', 'DSY.PA', 'BML-PJ', 'DIS', 'GDVTZ', 'LEN', 'TFF.PA', 'AIG', 'PAYX', 'FTNT', 'PSA', 'BAIN.PA', 'SAN.PA', 'AF.PA', 'DTEGY', 'ICAD.PA', 'TLS.AX', 'LB', 'VNO', 'HCP', 'DIM.PA', 'MURGF', 'VRTX', 'RELX', 'VETO.PA', 'PLD', 'HP', 'IBKR', 'PIAIF', 'SRE', 'ORA.PA', 'ESLOY', 'DLR', 'VRLA.PA', 'CEN.PA', 'MCK', 'LDOS', 'BA.L', 'AXAHF', 'MHK', 'GDS.PA', 'SW.PA', 'PFE', 'LI.PA', 'CNA.L', 'ETR', 'PM', 'BP.L', 'ELIS.PA', 'ATLCY', 'EIX', 'MS-PA', 'BACHF', 'STF.PA', 'SDG.PA', 'UBER', 'CHGCY', 'INGA.AS', 'CMS', 'MAR', 'BYDDF', 'LPE.PA', 'BASS.PA', 'CDI.PA', 'DELL', 'CVX', 'IBE.MC', 'LDNXF', 'EBAY', 'TTE.PA', 'SHEL', 'CSCO', 'TMUS', 'PCCYF', 'CRAP.PA', 'CFRUY', 'EDEN.PA', 'NEM', 'MERY.PA', 'NWSA', 'EURUSD=X', 'CA.PA', 'GLAXF', 'ADS.DE', 'DFS', 'CPB', 'RHHBY', 'CUAEF', 'IR', 'LTA.PA', 'PRU', 'COO', 'EL.PA', 'ETL.PA', 'CBAUF', 'MPC', 'NTDOF', 'XEL', 'NDAQ', 'TOELY', 'LH', 'ITW', 'MTD', 'NVDA', 'VOW3.DE', 'MSTR', 'PEUG.PA', 'HPQ', 'LYB', 'AJG', 'APD', 'AZNCF', 'UAA', 'CMI', 'HRB', 'ABF.L', 'IEX', 'WHR', 'SOI.PA', 'SLG', 'STOHF', 'XIACY', 'JPM', 'MGM', 'WAB', 'UBI.PA', 'FLY.PA', 'IDL.PA', 'ALLE', 'STZ', 'SFTBF', 'EQS.PA', 'BOL.PA', 'CRLA.PA', 'EXC', 'SMFNF', 'IDXX', 'UHS', 'NTES', 'ITOCF', 'CMA', 'MQG.AX', 'LRCX', 'MSFT', 'VU.PA', 'TE.PA', 'HESAY', 'ALIZY', 'AAL.L', 'AVY', 'CHDRF', 'PPWLM', 'CBOE', 'LEG', 'RL', 'VFC', 'PROSY', 'CVS', 'WDAY', 'VK.PA', 'WAT', 'IPGP', 'CSX', 'ACGBY', 'GFC.PA', 'CICHY', 'LOW', 'ATE.PA', 'IPN.PA', 'AIZ', 'MRVL', 'INCY', 'CFRHF', 'GE', 'NWL', 'VIV.PA', 'SONY', 'COVH.PA', 'SFTBY', 'HSBC', 'BVI.PA', 'UNCFF', 'CHD', 'BSX', 'LUV', 'OR.PA', 'HAS', 'AUB.PA', 'CILJF', 'ABT', 'PBCRF', 'IFF', 'NXI.PA', 'FOX', 'AAP', 'APH', 'LVMUY', 'PLTR', 'PWR', 'BAC-PK', 'SYY', 'BTAFF', 'FANG', 'CAF.PA', 'BABAF', 'AEP', 'HTHIF', 'CMG', 'BAC', 'CBA.AX', 'PSX', 'TXT', 'STT', 'ENB.TO', 'WY', 'LVMHF', 'CIHKY', 'CBDG.PA', 'TXN', 'NSC', 'ENEL.MI', 'ARG.PA', 'CBE.PA', 'BB.PA', 'ALTA.PA', 'BBVXF', 'FREY.PA', 'SPG', 'XRAY', 'RHI', 'TJX', 'T', 'SPOT', 'SMAWF', 'IBDSF', 'HSBA.L', 'DG.PA', 'MPNGF', 'AOS', 'PHM', 'ABBNY', 'MLHK.PA', 'EADSY', 'OKE', 'ROL', 'CB', 'TYL', 'CCI', 'VOW.DE', 'RSG', 'TRMB', 'NFLX', 'NABZY', 'KOF.PA', 'TSLA', 'NVSEF', 'AHT.L', 'RWE.DE', 'SHOP', 'JKHY', 'SBGSF', 'CPRT', 'DUK', 'FRE.DE', 'SIEGY', 'FFIV', 'ABNB', 'TSN', 'IDEXY', 'VZ', 'TPR', 'MDT', 'C', 'SAFRF', 'ALV.DE', 'RLXXF', 'AWK', 'VIL.PA', 'EFX', 'VRSN', 'AIV', 'SIE.DE', 'LLOY.L', 'TCEHY', 'NOC', 'AMZN', 'HSIC', 'FITB', 'HRL', 'AZO', 'ADSK', 'BKR', 'EA', 'PG', 'HTHIY', 'MKKGY', 'ENLAY', 'RYDAF', '600519.SS', 'JWN', 'EMR', 'CS.PA', 'PGR', 'ACN', 'AXP', 'OVH.PA', 'ETN', 'TT', 'ABLZF', 'ERF.PA', 'ED', 'COF', 'KR', 'UNH', 'SBKFF', 'REGN', 'COV.PA', 'EQIX', 'CCL', 'GM', 'QCOM', 'FLR', 'TFX', 'PNR', 'WEC', 'FR.PA', 'RJF', 'SMFG', 'STMPA.PA', 'ANSS', 'WELL', 'IMB.L', 'ACGBF', 'PNC', 'MSI', 'RMS.PA', 'EXPD', 'KMI', 'AEE', 'BMO.TO', 'ENX.PA', 'CBRE', 'KLAC', 'FCX', 'SU.TO', 'BTI', 'AKE.PA', 'VLO', 'CSLLY', 'CDNS', 'NSRGY', 'AYV.PA', 'GWW', 'ATO', 'BXP', '601318.SS', 'PNW', 'COTY.PA', 'EQNR', 'META', 'GPC', 'KEY', 'PYPL', 'HUM', 'BWA', 'CMXHF', 'PNGAY', 'VRSK', 'EOAN.DE', 'NESN.SW', 'MKTX', 'IDCBF', 'SESG.PA', '2388.HK', 'TFC', 'CNC', 'UNCRY', 'USB-PH', 'IP', 'LGEN.L', 'TEP.PA', 'EN.PA', 'ADM', 'RCRUY', 'ROK', 'BR', 'ABI.BR', 'NONOF', 'ELEC.PA', 'GLO.PA', 'GILD', 'UNBL.PA', 'CON.DE', 'RCO.PA', 'TCTZF', 'ABBV', 'HBI', 'HCA', 'LNT', 'WMB', 'KMX', 'FII.PA', 'ALL', 'AIQUF', 'GLW', 'HST', 'PUM.DE', 'XOM', 'QRVO', 'FDJ.PA', 'BKFCF', 'UNLYF', 'ES.PA', 'COIN', 'IAM.PA', 'BAX', 'DBG.PA', 'SBGSY', 'IBDRY', 'KMB', 'CME', 'DOV', 'AAPL', 'ML.PA', 'CI', 'DLTR', 'SLB', 'CSL.AX', 'MO', 'FDX', 'HON', 'EW', 'ERA.PA', 'RF.PA', '601988.SS', 'MF.PA', 'BBY', 'SPGI', 'BK', 'KIM', 'ADI', 'HOLX', 'MCHP', 'RUI.PA', 'URI', 'STX', 'IPS.PA', 'SNYNF', 'AVB', 'HAL', 'V', 'DEC.PA', 'CHGCF', 'DBSDF', 'WRB', '002475.SZ', 'SOP.PA', 'RCL', 'RHHVF', 'VIE.PA', 'XRX', 'DGE.L', '000651.SZ', 'TTFNF', 'JNJ', 'TKTT.PA', 'HIG', 'FRCOF', 'TER', 'COST', 'NEE', 'BLK', 'QBE.AX', 'NAB.AX', 'ICE', 'RLLCF', 'NTRS', 'DGEAF', 'RHHBF', 'BMW.DE', 'ALGN', 'CIHHF', 'LOUP.PA', 'DBSDY', 'FLS', 'SAFRY', 'BMY', 'PVH', 'WOW.AX', 'AMGN', 'MC.PA', 'GS-PD', 'USB-PP', 'UA', 'CF', 'MCD', 'DVA', 'CDA.PA', 'AMUN.PA', 'ALO.PA', 'M', 'HBAN', 'TSCO', 'MKGAF', 'SHOP.TO', 'CL', 'TMO', 'DD', 'RI.PA', 'ADP.PA', 'XIACF', 'BA', 'LHX', 'RDSA.VI', 'CNQ.TO', 'PLNW.PA', 'TDG', 'INFY', 'COP', 'MS-PI', 'SCHP.PA', 'IDCBY', 'INTU', 'MS-PE', 'ILMN', 'L', 'ROP', 'WMT', 'AM.PA', 'KYCCF', 'DAL', 'AXAHY', 'UNM', 'BNPQF', 'VMC', 'WYNN', 'FGR.PA', 'CNDF.PA', 'MRK', 'TEAM', 'EC.PA', 'ASML.AS', 'IDEXF', 'MU', 'ISNPY', 'CAG', 'LIN', 'NTDOY', 'HD', 'MPNGY', 'LW', 'ZAL.DE', 'ULTA', 'RYCEF', 'ATLKY', 'EXPE', 'RNO.PA', 'BML-PG', 'RTPPF', 'MOS', 'JPM-PC', 'UAL', 'PRGO', 'SNPS', 'WAVE.PA', 'TGT', 'ALIZF', 'PPL', 'LNSTY', 'MA', 'ALB', 'NPPXF', 'CMWAY', 'DOW', 'KEYS', 'DHR', 'AAL', 'PSTVY', 'DASH', 'A', 'AON', 'RNL.PA', 'SJM', 'BBVA', 'AIQUY', 'PLX.PA', 'HBCYF', 'CTAS', 'BACHY', 'NKE', 'HES', 'F', 'BAC-PE', 'WBA', 'OPM.PA', 'BNPQY', 'AI.PA', 'BUR.PA', 'ITOCY', 'WLN.PA', 'DBK.DE', 'CRWD', 'NTTYY', 'CRSU.PA', 'MTU.PA', 'JCI', 'DE', 'VCT.PA', 'PCAR', 'HII', 'AES', 'WFC-PC', 'RTNTF', 'USB', 'CAP.PA', 'MMB.PA', 'JBHT', 'ZBH', 'BARC.L', 'ISRG', 'ECL', 'VAC.PA', 'IRM', 'SWKS', 'TFI.PA', 'SAP.DE', 'S32.AX', 'ODFL', 'CHDRY', 'MFC.TO', 'ODET.PA', 'BAS.DE', 'REG', 'SAF.PA', 'MAS', 'ADP', 'MUV2.DE', 'AAGIY', 'SCCO', 'WFC-PY', 'NRG', 'GIS', 'DGX', 'GLE.PA', 'AME', 'STLAP.PA', 'VTR', 'BABA', 'DXC', 'TRI.PA', 'CIIHF', 'BRK-B', 'GSK.L', 'PSBKF', 'CHTR', 'BHP.AX', 'GS', 'DB1.DE', 'BML-PH', 'LMT', 'PPL.TO', 'STLA', 'GS-PA', 'GOOGL', 'BML-PL', 'TSM', 'FMC', 'OXY', 'PEG', 'TOELF', 'PAYC', 'LSS.PA', 'ASMLF', 'RTX', 'NSRGF', 'MLM', 'ASML', 'DHI', 'FAST', 'IVSXF', 'BCMXY', 'LNC', 'FMG.AX', 'ACA.PA', 'MMM', 'MT.AS', 'ENGI.PA', 'SU.PA', 'NI', 'SLF.TO', 'ZFSVF', 'ORLY', 'EXN.PA', 'LIN.DE', 'MCO', 'K', 'APTV', 'MS', 'BAYN.DE', 'SEE', 'XYL', 'DRI', 'RF', 'MTB', 'SHECY', 'TOYOF', 'SK.PA', 'BNS.TO', 'CAH']: JSONDecodeError('Expecting value: line 1 column 1 (char 0)')\n['LRLCY']: ChunkedEncodingError(ProtocolError('Connection broken: IncompleteRead(3900 bytes read, 6340 more expected)', IncompleteRead(3900 bytes read, 6340 more expected)))\n['EMEIS', 'ELIS SA', 'AXA SA', 'COVIVIO', 'FREY SA', 'H&K AG', 'TF1 SA', 'SEB SA', 'STEF SA', 'SCOR SE', 'MEITUAN', 'SPIE SA', 'EXOSENS']: YFTzMissingError('$%ticker%: possibly delisted; no timezone found')\n['MKC', 'RCRRF']: ChunkedEncodingError(ProtocolError('Connection broken: IncompleteRead(6500 bytes read, 3740 more expected)', IncompleteRead(6500 bytes read, 3740 more expected)))\n['EI.PA']: ChunkedEncodingError(ProtocolError('Connection broken: IncompleteRead(4060 bytes read, 1974 more expected)', IncompleteRead(4060 bytes read, 1974 more expected)))\n['O']: JS%ticker%NDecodeError('Expecting value: line 1 column 1 (char 0)')\n['TKO.PA']: ChunkedEncodingError(ProtocolError('Connection broken: IncompleteRead(4060 bytes read, 1985 more expected)', IncompleteRead(4060 bytes read, 1985 more expected)))\n['COFA.PA']: ChunkedEncodingError(ProtocolError('Connection broken: IncompleteRead(1 bytes read, 1 more expected)', IncompleteRead(1 bytes read, 1 more expected)))\n['SCHW']: ChunkedEncodingError(ProtocolError('Connection broken: IncompleteRead(2760 bytes read, 3274 more expected)', IncompleteRead(2760 bytes read, 3274 more expected)))\n['CINF']: ChunkedEncodingError(ProtocolError('Connection broken: IncompleteRead(1300 bytes read, 8940 more expected)', IncompleteRead(1300 bytes read, 8940 more expected)))\n['BUDFF']: ChunkedEncodingError(ProtocolError('Connection broken: IncompleteRead(0 bytes read, 2 more expected)', IncompleteRead(0 bytes read, 2 more expected)))\n['SO']: J%ticker%NDecodeError('Expecting value: line 1 column 1 (char 0)')\n['J']: %ticker%SONDecodeError('Expecting value: line 1 column 1 (char 0)')\n['D']: JSON%ticker%ecodeError('Expecting value: line 1 column 1 (char 0)')\n"
        },
        {
         "name": "stdout",
         "output_type": "stream",
         "text": "\n📊 ANALYSE MOMENTUM TOP 10\n================================================================================\n"
        },
        {
         "ename": "ValueError",
         "evalue": "min() arg is an empty sequence",
         "output_type": "error",
         "traceback": [
          "\u001b[0;31m---------------------------------------------------------------------------\u001b[0m",
          "\u001b[0;31mValueError\u001b[0m                                Traceback (most recent call last)",
          "Cell \u001b[0;32mIn[1], line 234\u001b[0m, in \u001b[0;36minteractive_portfolio_analysis.<locals>.on_analyze_button_clicked\u001b[0;34m(b)\u001b[0m\n\u001b[1;32m    231\u001b[0m \u001b[38;5;28mprint\u001b[39m(\u001b[38;5;124mf\u001b[39m\u001b[38;5;124m\"\u001b[39m\u001b[38;5;130;01m\\n\u001b[39;00m\u001b[38;5;124m📊 ANALYSE MOMENTUM TOP \u001b[39m\u001b[38;5;132;01m{\u001b[39;00mtop_n\u001b[38;5;132;01m}\u001b[39;00m\u001b[38;5;124m\"\u001b[39m)\n\u001b[1;32m    232\u001b[0m \u001b[38;5;28mprint\u001b[39m(\u001b[38;5;124m\"\u001b[39m\u001b[38;5;124m=\u001b[39m\u001b[38;5;124m\"\u001b[39m \u001b[38;5;241m*\u001b[39m \u001b[38;5;241m80\u001b[39m)\n\u001b[0;32m--> 234\u001b[0m top_stocks, perf, vals, entries, exits, days_in_top, momentum_data, perf_since_entry \u001b[38;5;241m=\u001b[39m \u001b[43mget_portfolio_performance\u001b[49m\u001b[43m(\u001b[49m\n\u001b[1;32m    235\u001b[0m \u001b[43m    \u001b[49m\u001b[43mdata\u001b[49m\u001b[43m[\u001b[49m\u001b[38;5;124;43m'\u001b[39;49m\u001b[38;5;124;43mAdj Close\u001b[39;49m\u001b[38;5;124;43m'\u001b[39;49m\u001b[43m]\u001b[49m\u001b[43m,\u001b[49m\u001b[43m \u001b[49m\u001b[43mTICKERS\u001b[49m\u001b[43m,\u001b[49m\u001b[43m \u001b[49m\u001b[43mtop_n\u001b[49m\n\u001b[1;32m    236\u001b[0m \u001b[43m\u001b[49m\u001b[43m)\u001b[49m\n\u001b[1;32m    238\u001b[0m \u001b[38;5;28mprint\u001b[39m(\u001b[38;5;124m\"\u001b[39m\u001b[38;5;130;01m\\n\u001b[39;00m\u001b[38;5;124m🏆 Classement Momentum 365j:\u001b[39m\u001b[38;5;124m\"\u001b[39m)\n\u001b[1;32m    239\u001b[0m \u001b[38;5;28mprint\u001b[39m(\u001b[38;5;124mf\u001b[39m\u001b[38;5;124m\"\u001b[39m\u001b[38;5;132;01m{\u001b[39;00m\u001b[38;5;124m'\u001b[39m\u001b[38;5;124m#\u001b[39m\u001b[38;5;124m'\u001b[39m\u001b[38;5;132;01m:\u001b[39;00m\u001b[38;5;124m2\u001b[39m\u001b[38;5;132;01m}\u001b[39;00m\u001b[38;5;124m \u001b[39m\u001b[38;5;132;01m{\u001b[39;00m\u001b[38;5;124m'\u001b[39m\u001b[38;5;124mTicker\u001b[39m\u001b[38;5;124m'\u001b[39m\u001b[38;5;132;01m:\u001b[39;00m\u001b[38;5;124m6\u001b[39m\u001b[38;5;132;01m}\u001b[39;00m\u001b[38;5;124m \u001b[39m\u001b[38;5;132;01m{\u001b[39;00m\u001b[38;5;124m'\u001b[39m\u001b[38;5;124mMomentum\u001b[39m\u001b[38;5;124m'\u001b[39m\u001b[38;5;132;01m:\u001b[39;00m\u001b[38;5;124m>9\u001b[39m\u001b[38;5;132;01m}\u001b[39;00m\u001b[38;5;124m \u001b[39m\u001b[38;5;132;01m{\u001b[39;00m\u001b[38;5;124m'\u001b[39m\u001b[38;5;124mJours Top\u001b[39m\u001b[38;5;124m'\u001b[39m\u001b[38;5;132;01m:\u001b[39;00m\u001b[38;5;124m>11\u001b[39m\u001b[38;5;132;01m}\u001b[39;00m\u001b[38;5;124m \u001b[39m\u001b[38;5;132;01m{\u001b[39;00m\u001b[38;5;124m'\u001b[39m\u001b[38;5;124mCours\u001b[39m\u001b[38;5;124m'\u001b[39m\u001b[38;5;132;01m:\u001b[39;00m\u001b[38;5;124m>10\u001b[39m\u001b[38;5;132;01m}\u001b[39;00m\u001b[38;5;124m \u001b[39m\u001b[38;5;132;01m{\u001b[39;00m\u001b[38;5;124m'\u001b[39m\u001b[38;5;124mPerf.Entry\u001b[39m\u001b[38;5;124m'\u001b[39m\u001b[38;5;132;01m:\u001b[39;00m\u001b[38;5;124m>10\u001b[39m\u001b[38;5;132;01m}\u001b[39;00m\u001b[38;5;124m\"\u001b[39m)\n",
          "Cell \u001b[0;32mIn[1], line 21\u001b[0m, in \u001b[0;36mget_portfolio_performance\u001b[0;34m(data, tickers, top_n)\u001b[0m\n\u001b[1;32m     17\u001b[0m \u001b[38;5;28;01mif\u001b[39;00m \u001b[38;5;129;01mnot\u001b[39;00m \u001b[38;5;28misinstance\u001b[39m(data\u001b[38;5;241m.\u001b[39mindex, pd\u001b[38;5;241m.\u001b[39mDatetimeIndex):\n\u001b[1;32m     18\u001b[0m     data\u001b[38;5;241m.\u001b[39mindex \u001b[38;5;241m=\u001b[39m pd\u001b[38;5;241m.\u001b[39mto_datetime(data\u001b[38;5;241m.\u001b[39mindex)\n\u001b[1;32m     20\u001b[0m dates \u001b[38;5;241m=\u001b[39m {\n\u001b[0;32m---> 21\u001b[0m     \u001b[38;5;124m'\u001b[39m\u001b[38;5;124mYTD\u001b[39m\u001b[38;5;124m'\u001b[39m: \u001b[38;5;28;43mmin\u001b[39;49m\u001b[43m(\u001b[49m\u001b[43mdate\u001b[49m\u001b[43m \u001b[49m\u001b[38;5;28;43;01mfor\u001b[39;49;00m\u001b[43m \u001b[49m\u001b[43mdate\u001b[49m\u001b[43m \u001b[49m\u001b[38;5;129;43;01min\u001b[39;49;00m\u001b[43m \u001b[49m\u001b[43mdata\u001b[49m\u001b[38;5;241;43m.\u001b[39;49m\u001b[43mindex\u001b[49m\u001b[38;5;241;43m.\u001b[39;49m\u001b[43mdate\u001b[49m\u001b[43m \u001b[49m\u001b[38;5;28;43;01mif\u001b[39;49;00m\u001b[43m \u001b[49m\u001b[43mdate\u001b[49m\u001b[43m \u001b[49m\u001b[38;5;241;43m>\u001b[39;49m\u001b[38;5;241;43m=\u001b[39;49m\u001b[43m \u001b[49m\u001b[43mytd_start\u001b[49m\u001b[43m)\u001b[49m\u001b[38;5;241m.\u001b[39mstrftime(\u001b[38;5;124m'\u001b[39m\u001b[38;5;124m%\u001b[39m\u001b[38;5;124mY-\u001b[39m\u001b[38;5;124m%\u001b[39m\u001b[38;5;124mm-\u001b[39m\u001b[38;5;132;01m%d\u001b[39;00m\u001b[38;5;124m'\u001b[39m),\n\u001b[1;32m     22\u001b[0m     \u001b[38;5;124m'\u001b[39m\u001b[38;5;124m1m\u001b[39m\u001b[38;5;124m'\u001b[39m: data\u001b[38;5;241m.\u001b[39mindex[\u001b[38;5;241m-\u001b[39m\u001b[38;5;241m22\u001b[39m]\u001b[38;5;241m.\u001b[39mdate()\u001b[38;5;241m.\u001b[39mstrftime(\u001b[38;5;124m'\u001b[39m\u001b[38;5;124m%\u001b[39m\u001b[38;5;124mY-\u001b[39m\u001b[38;5;124m%\u001b[39m\u001b[38;5;124mm-\u001b[39m\u001b[38;5;132;01m%d\u001b[39;00m\u001b[38;5;124m'\u001b[39m),\n\u001b[1;32m     23\u001b[0m     \u001b[38;5;124m'\u001b[39m\u001b[38;5;124m1s\u001b[39m\u001b[38;5;124m'\u001b[39m: data\u001b[38;5;241m.\u001b[39mindex[\u001b[38;5;241m-\u001b[39m\u001b[38;5;241m6\u001b[39m]\u001b[38;5;241m.\u001b[39mdate()\u001b[38;5;241m.\u001b[39mstrftime(\u001b[38;5;124m'\u001b[39m\u001b[38;5;124m%\u001b[39m\u001b[38;5;124mY-\u001b[39m\u001b[38;5;124m%\u001b[39m\u001b[38;5;124mm-\u001b[39m\u001b[38;5;132;01m%d\u001b[39;00m\u001b[38;5;124m'\u001b[39m),\n\u001b[1;32m     24\u001b[0m     \u001b[38;5;124m'\u001b[39m\u001b[38;5;124m1j\u001b[39m\u001b[38;5;124m'\u001b[39m: data\u001b[38;5;241m.\u001b[39mindex[\u001b[38;5;241m-\u001b[39m\u001b[38;5;241m2\u001b[39m]\u001b[38;5;241m.\u001b[39mdate()\u001b[38;5;241m.\u001b[39mstrftime(\u001b[38;5;124m'\u001b[39m\u001b[38;5;124m%\u001b[39m\u001b[38;5;124mY-\u001b[39m\u001b[38;5;124m%\u001b[39m\u001b[38;5;124mm-\u001b[39m\u001b[38;5;132;01m%d\u001b[39;00m\u001b[38;5;124m'\u001b[39m)\n\u001b[1;32m     25\u001b[0m }\n\u001b[1;32m     27\u001b[0m days_in_topN \u001b[38;5;241m=\u001b[39m {}\n\u001b[1;32m     28\u001b[0m entry_dates \u001b[38;5;241m=\u001b[39m {}\n",
          "\u001b[0;31mValueError\u001b[0m: min() arg is an empty sequence"
         ]
        }
       ]
      }
     },
     "5ba4baa176c84027a38a2dd165569111": {
      "model_module": "@jupyter-widgets/base",
      "model_module_version": "2.0.0",
      "model_name": "LayoutModel",
      "state": {}
     },
     "5bd04c63ca1749c7b955ccd6321a89d6": {
      "model_module": "@jupyter-widgets/base",
      "model_module_version": "2.0.0",
      "model_name": "LayoutModel",
      "state": {}
     },
     "5cc4e741d37448dab58d59bf2675ff3b": {
      "model_module": "@jupyter-widgets/base",
      "model_module_version": "2.0.0",
      "model_name": "LayoutModel",
      "state": {}
     },
     "629c981eb7a34bbdb723e329ff0a84a8": {
      "model_module": "@jupyter-widgets/controls",
      "model_module_version": "2.0.0",
      "model_name": "IntSliderModel",
      "state": {
       "behavior": "drag-tap",
       "continuous_update": false,
       "description": "Clusters:",
       "layout": "IPY_MODEL_9bea0934cdde4f4895339d11a0957c5f",
       "max": 931,
       "min": 1,
       "style": "IPY_MODEL_8292cdf17e434c678d5dc205cf8b18e7",
       "value": 10
      }
     },
     "63941fffbf084a3c82e5e584567feae4": {
      "model_module": "@jupyter-widgets/base",
      "model_module_version": "2.0.0",
      "model_name": "LayoutModel",
      "state": {}
     },
     "72e6a526a045435995625fb232d5c2e9": {
      "model_module": "@jupyter-widgets/controls",
      "model_module_version": "2.0.0",
      "model_name": "DescriptionStyleModel",
      "state": {
       "description_width": "initial"
      }
     },
     "73202e81e11e4f8cb283994dd549f3c2": {
      "model_module": "@jupyter-widgets/base",
      "model_module_version": "2.0.0",
      "model_name": "LayoutModel",
      "state": {}
     },
     "7820683dbc394f269c79f8a12451a12a": {
      "model_module": "@jupyter-widgets/base",
      "model_module_version": "2.0.0",
      "model_name": "LayoutModel",
      "state": {}
     },
     "7c286a5e64d94e14ba96ab495f6f46ec": {
      "model_module": "@jupyter-widgets/controls",
      "model_module_version": "2.0.0",
      "model_name": "IntSliderModel",
      "state": {
       "behavior": "drag-tap",
       "continuous_update": false,
       "description": "Clusters:",
       "layout": "IPY_MODEL_f6d9c9860fb548668180b8fa42184bad",
       "max": 26,
       "min": 1,
       "style": "IPY_MODEL_9fff38009bf947b4af345990167a4c75",
       "value": 2
      }
     },
     "815b388adfd64abda1ac5eef780b309a": {
      "model_module": "@jupyter-widgets/controls",
      "model_module_version": "2.0.0",
      "model_name": "FloatTextModel",
      "state": {
       "description": "Sharpe Weight:",
       "layout": "IPY_MODEL_b856e90356374ed19f55e3e03a66f558",
       "step": null,
       "style": "IPY_MODEL_3f6580142b304d47a022bbdfec5e4c13",
       "value": 0.4
      }
     },
     "81cfaf4b186f4e6c93f8aae587ed167b": {
      "model_module": "@jupyter-widgets/controls",
      "model_module_version": "2.0.0",
      "model_name": "DescriptionStyleModel",
      "state": {
       "description_width": "initial"
      }
     },
     "8292cdf17e434c678d5dc205cf8b18e7": {
      "model_module": "@jupyter-widgets/controls",
      "model_module_version": "2.0.0",
      "model_name": "SliderStyleModel",
      "state": {
       "description_width": ""
      }
     },
     "8c0aac576f7247dda2bb20d176a83adc": {
      "model_module": "@jupyter-widgets/controls",
      "model_module_version": "2.0.0",
      "model_name": "IntSliderModel",
      "state": {
       "behavior": "drag-tap",
       "continuous_update": false,
       "description": "Top N Stocks:",
       "layout": "IPY_MODEL_226e8a42fb0449248c204e1670f9c0b7",
       "max": 931,
       "min": 1,
       "style": "IPY_MODEL_1f06fc9ecf1842189c4a968cdbf4a5ee",
       "value": 10
      }
     },
     "9bea0934cdde4f4895339d11a0957c5f": {
      "model_module": "@jupyter-widgets/base",
      "model_module_version": "2.0.0",
      "model_name": "LayoutModel",
      "state": {}
     },
     "9fff38009bf947b4af345990167a4c75": {
      "model_module": "@jupyter-widgets/controls",
      "model_module_version": "2.0.0",
      "model_name": "SliderStyleModel",
      "state": {
       "description_width": ""
      }
     },
     "a73877e637a04218ac970a78c048b542": {
      "model_module": "@jupyter-widgets/controls",
      "model_module_version": "2.0.0",
      "model_name": "FloatTextModel",
      "state": {
       "description": "Sharpe Weight:",
       "layout": "IPY_MODEL_e5717a0310634554b154c45427350b5e",
       "step": null,
       "style": "IPY_MODEL_1a42c6629548402b922f9ae902b5f4b2",
       "value": 0.4
      }
     },
     "a73cabe04b7e4c47af6b7835d16f249a": {
      "model_module": "@jupyter-widgets/controls",
      "model_module_version": "2.0.0",
      "model_name": "SliderStyleModel",
      "state": {
       "description_width": ""
      }
     },
     "aa7316c0a5104b30a33c4b35fb5bdba3": {
      "model_module": "@jupyter-widgets/base",
      "model_module_version": "2.0.0",
      "model_name": "LayoutModel",
      "state": {}
     },
     "aab036e62fc24979a6cc50e5763cf4db": {
      "model_module": "@jupyter-widgets/controls",
      "model_module_version": "2.0.0",
      "model_name": "DescriptionStyleModel",
      "state": {
       "description_width": "initial"
      }
     },
     "adf9f9aebc22434ab45f47622e810968": {
      "model_module": "@jupyter-widgets/controls",
      "model_module_version": "2.0.0",
      "model_name": "SliderStyleModel",
      "state": {
       "description_width": ""
      }
     },
     "af28a1f0eba5490cbc5841606c295750": {
      "model_module": "@jupyter-widgets/base",
      "model_module_version": "2.0.0",
      "model_name": "LayoutModel",
      "state": {}
     },
     "b85646e0277c4cf3ac6d5e83e0eabd4a": {
      "model_module": "@jupyter-widgets/base",
      "model_module_version": "2.0.0",
      "model_name": "LayoutModel",
      "state": {}
     },
     "b856e90356374ed19f55e3e03a66f558": {
      "model_module": "@jupyter-widgets/base",
      "model_module_version": "2.0.0",
      "model_name": "LayoutModel",
      "state": {}
     },
     "b93d01aecab541a1a8d6144a06bac276": {
      "model_module": "@jupyter-widgets/controls",
      "model_module_version": "2.0.0",
      "model_name": "FloatTextModel",
      "state": {
       "description": "Total Amount (€):",
       "layout": "IPY_MODEL_5bd04c63ca1749c7b955ccd6321a89d6",
       "step": null,
       "style": "IPY_MODEL_bba68a20066a40b6a5e239180b880185",
       "value": 1000
      }
     },
     "bba68a20066a40b6a5e239180b880185": {
      "model_module": "@jupyter-widgets/controls",
      "model_module_version": "2.0.0",
      "model_name": "DescriptionStyleModel",
      "state": {
       "description_width": "initial"
      }
     },
     "bbc6ba783ec84c27afd5ff2532fe555f": {
      "model_module": "@jupyter-widgets/controls",
      "model_module_version": "2.0.0",
      "model_name": "FloatTextModel",
      "state": {
       "description": "Momentum Weight:",
       "layout": "IPY_MODEL_73202e81e11e4f8cb283994dd549f3c2",
       "step": null,
       "style": "IPY_MODEL_72e6a526a045435995625fb232d5c2e9",
       "value": 0.6
      }
     },
     "bc33f433a1654caea338c7b6d1374946": {
      "model_module": "@jupyter-widgets/controls",
      "model_module_version": "2.0.0",
      "model_name": "DescriptionStyleModel",
      "state": {
       "description_width": "initial"
      }
     },
     "bd25af4688ea4f88b62badb3255b0259": {
      "model_module": "@jupyter-widgets/controls",
      "model_module_version": "2.0.0",
      "model_name": "IntSliderModel",
      "state": {
       "behavior": "drag-tap",
       "continuous_update": false,
       "description": "Clusters:",
       "layout": "IPY_MODEL_1c1c4906cf674de494fbb41c4fe9f810",
       "max": 931,
       "min": 1,
       "style": "IPY_MODEL_a73cabe04b7e4c47af6b7835d16f249a",
       "value": 10
      }
     },
     "bf79ed74388a40ffbd3facb68998bb49": {
      "model_module": "@jupyter-widgets/base",
      "model_module_version": "2.0.0",
      "model_name": "LayoutModel",
      "state": {}
     },
     "c0d11b8387ea477d8ee414ab65182c2d": {
      "model_module": "@jupyter-widgets/controls",
      "model_module_version": "2.0.0",
      "model_name": "SliderStyleModel",
      "state": {
       "description_width": ""
      }
     },
     "d2cfe243f5b44e2081deb084311b9a11": {
      "model_module": "@jupyter-widgets/output",
      "model_module_version": "1.0.0",
      "model_name": "OutputModel",
      "state": {
       "layout": "IPY_MODEL_0d566a26679c4a8590586f6f90ab98c1",
       "outputs": [
        {
         "name": "stderr",
         "output_type": "stream",
         "text": "[*********************100%***********************]  26 of 26 completed\n\n26 Failed downloads:\n['ACA.PA', 'ENGI.PA', 'SU.PA', 'AIR.PA', 'PUB.PA', 'ORA.PA', 'EL.PA', 'CAP.PA', 'RI.PA', 'SAF.PA', 'CS.PA', 'CDI.PA', 'DSY.PA', 'BN.PA', 'HO.PA', 'AI.PA', 'DG.PA', 'TTE.PA', 'MC.PA', 'OR.PA', 'BNP.PA', 'SAN.PA', 'KER.PA', 'LR.PA', 'SGO.PA']: JSONDecodeError('Expecting value: line 1 column 1 (char 0)')\n['AXA SA']: YFTzMissingError('$%ticker%: possibly delisted; no timezone found')\n"
        },
        {
         "name": "stdout",
         "output_type": "stream",
         "text": "\n📊 ANALYSE MOMENTUM TOP 5\n================================================================================\n"
        },
        {
         "ename": "ValueError",
         "evalue": "min() arg is an empty sequence",
         "output_type": "error",
         "traceback": [
          "\u001b[0;31m---------------------------------------------------------------------------\u001b[0m",
          "\u001b[0;31mValueError\u001b[0m                                Traceback (most recent call last)",
          "Cell \u001b[0;32mIn[2], line 226\u001b[0m, in \u001b[0;36minteractive_portfolio_analysis.<locals>.on_analyze_button_clicked\u001b[0;34m(b)\u001b[0m\n\u001b[1;32m    223\u001b[0m \u001b[38;5;28mprint\u001b[39m(\u001b[38;5;124mf\u001b[39m\u001b[38;5;124m\"\u001b[39m\u001b[38;5;130;01m\\n\u001b[39;00m\u001b[38;5;124m📊 ANALYSE MOMENTUM TOP \u001b[39m\u001b[38;5;132;01m{\u001b[39;00mtop_n\u001b[38;5;132;01m}\u001b[39;00m\u001b[38;5;124m\"\u001b[39m)\n\u001b[1;32m    224\u001b[0m \u001b[38;5;28mprint\u001b[39m(\u001b[38;5;124m\"\u001b[39m\u001b[38;5;124m=\u001b[39m\u001b[38;5;124m\"\u001b[39m \u001b[38;5;241m*\u001b[39m \u001b[38;5;241m80\u001b[39m)\n\u001b[0;32m--> 226\u001b[0m top_stocks, perf, vals, entries, exits, days_in_top, momentum_data, perf_since_entry \u001b[38;5;241m=\u001b[39m \u001b[43mget_portfolio_performance\u001b[49m\u001b[43m(\u001b[49m\n\u001b[1;32m    227\u001b[0m \u001b[43m    \u001b[49m\u001b[43mdata\u001b[49m\u001b[43m[\u001b[49m\u001b[38;5;124;43m'\u001b[39;49m\u001b[38;5;124;43mAdj Close\u001b[39;49m\u001b[38;5;124;43m'\u001b[39;49m\u001b[43m]\u001b[49m\u001b[43m,\u001b[49m\u001b[43m \u001b[49m\u001b[43mTICKERS\u001b[49m\u001b[43m,\u001b[49m\u001b[43m \u001b[49m\u001b[43mtop_n\u001b[49m\n\u001b[1;32m    228\u001b[0m \u001b[43m\u001b[49m\u001b[43m)\u001b[49m\n\u001b[1;32m    230\u001b[0m \u001b[38;5;28mprint\u001b[39m(\u001b[38;5;124m\"\u001b[39m\u001b[38;5;130;01m\\n\u001b[39;00m\u001b[38;5;124m🏆 Classement Momentum 365j:\u001b[39m\u001b[38;5;124m\"\u001b[39m)\n\u001b[1;32m    231\u001b[0m \u001b[38;5;28mprint\u001b[39m(\u001b[38;5;124mf\u001b[39m\u001b[38;5;124m\"\u001b[39m\u001b[38;5;132;01m{\u001b[39;00m\u001b[38;5;124m'\u001b[39m\u001b[38;5;124m#\u001b[39m\u001b[38;5;124m'\u001b[39m\u001b[38;5;132;01m:\u001b[39;00m\u001b[38;5;124m2\u001b[39m\u001b[38;5;132;01m}\u001b[39;00m\u001b[38;5;124m \u001b[39m\u001b[38;5;132;01m{\u001b[39;00m\u001b[38;5;124m'\u001b[39m\u001b[38;5;124mTicker\u001b[39m\u001b[38;5;124m'\u001b[39m\u001b[38;5;132;01m:\u001b[39;00m\u001b[38;5;124m6\u001b[39m\u001b[38;5;132;01m}\u001b[39;00m\u001b[38;5;124m \u001b[39m\u001b[38;5;132;01m{\u001b[39;00m\u001b[38;5;124m'\u001b[39m\u001b[38;5;124mMomentum\u001b[39m\u001b[38;5;124m'\u001b[39m\u001b[38;5;132;01m:\u001b[39;00m\u001b[38;5;124m>9\u001b[39m\u001b[38;5;132;01m}\u001b[39;00m\u001b[38;5;124m \u001b[39m\u001b[38;5;132;01m{\u001b[39;00m\u001b[38;5;124m'\u001b[39m\u001b[38;5;124mJours Top\u001b[39m\u001b[38;5;124m'\u001b[39m\u001b[38;5;132;01m:\u001b[39;00m\u001b[38;5;124m>11\u001b[39m\u001b[38;5;132;01m}\u001b[39;00m\u001b[38;5;124m \u001b[39m\u001b[38;5;132;01m{\u001b[39;00m\u001b[38;5;124m'\u001b[39m\u001b[38;5;124mCours\u001b[39m\u001b[38;5;124m'\u001b[39m\u001b[38;5;132;01m:\u001b[39;00m\u001b[38;5;124m>10\u001b[39m\u001b[38;5;132;01m}\u001b[39;00m\u001b[38;5;124m \u001b[39m\u001b[38;5;132;01m{\u001b[39;00m\u001b[38;5;124m'\u001b[39m\u001b[38;5;124mPerf.Entry\u001b[39m\u001b[38;5;124m'\u001b[39m\u001b[38;5;132;01m:\u001b[39;00m\u001b[38;5;124m>10\u001b[39m\u001b[38;5;132;01m}\u001b[39;00m\u001b[38;5;124m\"\u001b[39m)\n",
          "Cell \u001b[0;32mIn[2], line 21\u001b[0m, in \u001b[0;36mget_portfolio_performance\u001b[0;34m(data, tickers, top_n)\u001b[0m\n\u001b[1;32m     17\u001b[0m \u001b[38;5;28;01mif\u001b[39;00m \u001b[38;5;129;01mnot\u001b[39;00m \u001b[38;5;28misinstance\u001b[39m(data\u001b[38;5;241m.\u001b[39mindex, pd\u001b[38;5;241m.\u001b[39mDatetimeIndex):\n\u001b[1;32m     18\u001b[0m     data\u001b[38;5;241m.\u001b[39mindex \u001b[38;5;241m=\u001b[39m pd\u001b[38;5;241m.\u001b[39mto_datetime(data\u001b[38;5;241m.\u001b[39mindex)\n\u001b[1;32m     20\u001b[0m dates \u001b[38;5;241m=\u001b[39m {\n\u001b[0;32m---> 21\u001b[0m     \u001b[38;5;124m'\u001b[39m\u001b[38;5;124mYTD\u001b[39m\u001b[38;5;124m'\u001b[39m: \u001b[38;5;28;43mmin\u001b[39;49m\u001b[43m(\u001b[49m\u001b[43mdate\u001b[49m\u001b[43m \u001b[49m\u001b[38;5;28;43;01mfor\u001b[39;49;00m\u001b[43m \u001b[49m\u001b[43mdate\u001b[49m\u001b[43m \u001b[49m\u001b[38;5;129;43;01min\u001b[39;49;00m\u001b[43m \u001b[49m\u001b[43mdata\u001b[49m\u001b[38;5;241;43m.\u001b[39;49m\u001b[43mindex\u001b[49m\u001b[38;5;241;43m.\u001b[39;49m\u001b[43mdate\u001b[49m\u001b[43m \u001b[49m\u001b[38;5;28;43;01mif\u001b[39;49;00m\u001b[43m \u001b[49m\u001b[43mdate\u001b[49m\u001b[43m \u001b[49m\u001b[38;5;241;43m>\u001b[39;49m\u001b[38;5;241;43m=\u001b[39;49m\u001b[43m \u001b[49m\u001b[43mytd_start\u001b[49m\u001b[43m)\u001b[49m\u001b[38;5;241m.\u001b[39mstrftime(\u001b[38;5;124m'\u001b[39m\u001b[38;5;124m%\u001b[39m\u001b[38;5;124mY-\u001b[39m\u001b[38;5;124m%\u001b[39m\u001b[38;5;124mm-\u001b[39m\u001b[38;5;132;01m%d\u001b[39;00m\u001b[38;5;124m'\u001b[39m),\n\u001b[1;32m     22\u001b[0m     \u001b[38;5;124m'\u001b[39m\u001b[38;5;124m1m\u001b[39m\u001b[38;5;124m'\u001b[39m: data\u001b[38;5;241m.\u001b[39mindex[\u001b[38;5;241m-\u001b[39m\u001b[38;5;241m22\u001b[39m]\u001b[38;5;241m.\u001b[39mdate()\u001b[38;5;241m.\u001b[39mstrftime(\u001b[38;5;124m'\u001b[39m\u001b[38;5;124m%\u001b[39m\u001b[38;5;124mY-\u001b[39m\u001b[38;5;124m%\u001b[39m\u001b[38;5;124mm-\u001b[39m\u001b[38;5;132;01m%d\u001b[39;00m\u001b[38;5;124m'\u001b[39m),\n\u001b[1;32m     23\u001b[0m     \u001b[38;5;124m'\u001b[39m\u001b[38;5;124m1s\u001b[39m\u001b[38;5;124m'\u001b[39m: data\u001b[38;5;241m.\u001b[39mindex[\u001b[38;5;241m-\u001b[39m\u001b[38;5;241m6\u001b[39m]\u001b[38;5;241m.\u001b[39mdate()\u001b[38;5;241m.\u001b[39mstrftime(\u001b[38;5;124m'\u001b[39m\u001b[38;5;124m%\u001b[39m\u001b[38;5;124mY-\u001b[39m\u001b[38;5;124m%\u001b[39m\u001b[38;5;124mm-\u001b[39m\u001b[38;5;132;01m%d\u001b[39;00m\u001b[38;5;124m'\u001b[39m),\n\u001b[1;32m     24\u001b[0m     \u001b[38;5;124m'\u001b[39m\u001b[38;5;124m1j\u001b[39m\u001b[38;5;124m'\u001b[39m: data\u001b[38;5;241m.\u001b[39mindex[\u001b[38;5;241m-\u001b[39m\u001b[38;5;241m2\u001b[39m]\u001b[38;5;241m.\u001b[39mdate()\u001b[38;5;241m.\u001b[39mstrftime(\u001b[38;5;124m'\u001b[39m\u001b[38;5;124m%\u001b[39m\u001b[38;5;124mY-\u001b[39m\u001b[38;5;124m%\u001b[39m\u001b[38;5;124mm-\u001b[39m\u001b[38;5;132;01m%d\u001b[39;00m\u001b[38;5;124m'\u001b[39m)\n\u001b[1;32m     25\u001b[0m }\n\u001b[1;32m     27\u001b[0m days_in_topN \u001b[38;5;241m=\u001b[39m {}\n\u001b[1;32m     28\u001b[0m entry_dates \u001b[38;5;241m=\u001b[39m {}\n",
          "\u001b[0;31mValueError\u001b[0m: min() arg is an empty sequence"
         ]
        }
       ]
      }
     },
     "dda5f599182d4bb2a4a96484e8965588": {
      "model_module": "@jupyter-widgets/output",
      "model_module_version": "1.0.0",
      "model_name": "OutputModel",
      "state": {
       "layout": "IPY_MODEL_bf79ed74388a40ffbd3facb68998bb49",
       "outputs": [
        {
         "name": "stderr",
         "output_type": "stream",
         "text": "[*********************100%***********************]  931 of 931 completed\n\n18 Failed downloads:\n['AIR.PA', 'KER.PA']: JSONDecodeError('Expecting value: line 1 column 1 (char 0)')\n['EMEIS', 'ELIS SA', 'AXA SA', 'COVIVIO', 'FREY SA', 'H&K AG', 'TF1 SA', 'SEB SA', 'STEF SA', 'SCOR SE', 'MEITUAN', 'SPIE SA', 'EXOSENS']: YFTzMissingError('$%ticker%: possibly delisted; no timezone found')\n['EI.PA', 'RNL.PA']: YFPricesMissingError('$%ticker%: possibly delisted; no price data found  (1d 2024-01-28 -> 2025-01-28)')\n['BACHY']: ConnectionError(ProtocolError('Connection aborted.', RemoteDisconnected('Remote end closed connection without response')))\n"
        },
        {
         "name": "stdout",
         "output_type": "stream",
         "text": "\n📊 ANALYSE MOMENTUM TOP 10\n================================================================================\n\n🏆 Classement Momentum 365j:\n#  Ticker  Momentum   Jours Top      Cours Perf.Entry\n--------------------------------------------------------------------------------\n 1 MSTR      577.1%        5j     347.92€     -10.6%\n 2 PLTR      341.4%        5j      75.44€       3.2%\n 3 XIACF     186.8%        5j       4.82€       5.8%\n 4 UAL       153.6%        5j     106.74€      -3.4%\n 5 SPOT      135.1%        5j     513.98€       5.4%\n 6 MPNGY     130.5%        5j      38.90€      -3.3%\n 7 MPNGF     128.1%        5j      19.58€       2.5%\n 8 IBKR      127.0%        4j     203.87€      -2.8%\n 9 ES.PA     120.6%        1j     111.40€       0.0%\n10 COIN      109.3%        3j     277.99€      -6.1%\n\n📈 Performance du portefeuille:\n----------------------------------------\nActuel       :    --- (val. 100.00)\n1 jour       :  -1.70% (val. 101.73)\n1 semaine    :  -5.59% (val. 105.92)\n1 mois       :   4.00% (val.  96.15)\nDepuis 01/01 :   6.62% (val.  93.79)\n1 an         : 200.96% (val.  33.23)\n\n🔄 Changements depuis hier:\n  Entrées : ES.PA\n  Sorties : NVDA\n\n\n💼 ANALYSE PORTEFEUILLE ÉQUILIBRÉ\n================================================================================\n\n🔍 Clusters identifiés:\n\nCluster 0: 000651.SZ, 002475.SZ, 1398.HK, 2388.HK, 600519.SS, 601288.SS, 601318.SS, 601988.SS, A, AAGIY, AAIGF, AAL, AAL.L, AAP, AAPL, ABBNY, ABBV, ABF.L, ABI.BR, ABNB, ABT, AC.PA, ACA.PA, ACN, ADBE, ADI, ADM, ADM.L, ADP, ADP.PA, ADS.DE, ADSK, AEE, AEP, AES, AF.PA, AFL, AHT.L, AI.PA, AIG, AIQUY, AIV, AIZ, AJG, AKAM, AKE.PA, ALB, ALGN, ALIZY, ALK, ALL, ALLE, ALO.PA, ALV.DE, AMAT, AMD, AME, AMGN, AMP, AMT, AMUN.PA, AMZN, ANET, ANSS, ANZ.AX, AON, AOS, APA, APD, APH, APTV, ARE, ASML, ASML.AS, ATLKY, ATO, AV.L, AVB, AVGO, AVY, AWK, AXAHY, AXP, AYV.PA, AZO, BA, BA.L, BABA, BABAF, BAC, BAC-PB, BAC-PK, BARC.L, BAS.DE, BATS.L, BAX, BAYN.DE, BBVA, BBVA.MC, BBY, BDX, BEN, BEN.PA, BHP.AX, BIIB, BIM.PA, BK, BKNG, BKR, BLK, BMO.TO, BMW.DE, BMY, BN.PA, BNP.PA, BNPQY, BNS.TO, BOL.PA, BP.L, BR, BRK-B, BSX, BTI, BVI.PA, BWA, BXP, BYDDF, BYDDY, C, CA.PA, CAG, CAH, CAP.PA, CARM.PA, CAT, CB, CBA.AX, CBOE, CBRE, CCI, CCL, CDNS, CE, CF, CFG, CFRUY, CHD, CHGCY, CHRW, CHTR, CI, CICHY, CINF, CL, CLX, CMA, CMCSA, CME, CMG, CMI, CMS, CNA.L, CNC, CNP, CNQ.TO, COF, COFA.PA, COIN, CON.DE, COO, COP, COST, COV.PA, CPB, CPRT, CRM, CRWD, CS.PA, CSCO, CSL.AX, CSX, CTAS, CVS, CVX, D, DAL, DASH, DB1.DE, DBG.PA, DBK.DE, DD, DE, DEC.PA, DELL, DFS, DG, DG.PA, DGE.L, DGX, DHI, DHR, DIM.PA, DIS, DLR, DLTR, DOV, DOW, DRI, DSY.PA, DTE, DTE.DE, DTEGY, DUK, DVA, DVN, DXC, EA, EADSY, EBAY, ECL, ED, EDEN.PA, EFX, EIX, EL, EL.PA, ELIS.PA, EMN, EMR, EN.PA, ENB.TO, ENEL.MI, ENGI.PA, ENI.MI, ENLAY, ENX.PA, EOAN.DE, EOG, EQIX, EQNR, EQR, ERA.PA, ERF.PA, ES, ESS, ETL.PA, ETN, ETR, EVRG, EW, EXC, EXPD, EXPE, EXR, F, FANG, FAST, FCX, FDJ.PA, FDX, FE, FFIV, FGR.PA, FIS, FITB, FLR, FLS, FMC, FMG.AX, FOX, FOXA, FR.PA, FRE.DE, FTNT, FTV, G.MI, GD, GE, GET.PA, GFC.PA, GILD, GIS, GL, GLE.PA, GLW, GM, GOOG, GOOGL, GPC, GPN, GS, GS-PD, GSK.L, GTT.PA, GWW, HAL, HAS, HBAN, HBI, HCA, HD, HES, HIG, HII, HLT, HNHPF, HO.PA, HOG, HOLX, HON, HP, HPE, HPQ, HRB, HRL, HSBA.L, HSBC, HSIC, HST, HSY, HTHIY, HUM, IBDRY, IBE.MC, IBKR, IBM, ICAD.PA, ICE, IDEXY, IDXX, IEX, IFF, ILMN, IMB.L, INCY, INFY, INGA.AS, INTC, INTU, IP, IPG, IPGP, IPN.PA, IPS.PA, IQV, IR, IRM, ISNPY, ISP.MI, ISRG, IT, ITV.L, ITW, IVZ, J, JBHT, JCI, JKHY, JNJ, JNPR, JPM, JPM-PC, JPM-PD, JWN, K, KEY, KEYS, KHC, KIM, KLAC, KMB, KMI, KMX, KO, KR, KSS, L, LB, LDOS, LEG, LEN, LGEN.L, LH, LHA.DE, LHX, LI.PA, LIN, LKQ, LLOY.L, LLY, LMT, LNC, LNSTY, LNT, LOW, LR.PA, LRCX, LRLCY, LUV, LVMUY, LW, LYB, M, MA, MAA, MAC, MAR, MAS, MAU.PA, MC.PA, MCD, MCHP, MCK, MCO, MDLZ, MDT, MERY.PA, MET, META, MFC.TO, MGM, MHK, MKC, MKKGY, MKTX, ML.PA, MLM, MMC, MMM, MMT.PA, MNST, MO, MOS, MPC, MPNGY, MQG.AX, MRK, MRVL, MS, MS-PA, MS-PE, MS-PI, MS-PK, MSCI, MSFT, MSI, MSTR, MT.AS, MTB, MTD, MU, MUFG, MURGY, MUV2.DE, NAB.AX, NABZY, NAVI, NCLH, NDAQ, NEE, NEM, NESN.SW, NEX.PA, NFLX, NI, NK.PA, NKE, NOC, NOKIA.HE, NOV, NRG, NSC, NSRGF, NSRGY, NTAP, NTDOY, NTES, NTRS, NTTYY, NUE, NVDA, NWL, NWS, NWSA, NXI.PA, O, ODFL, OKE, OMC, OPM.PA, OR.PA, ORA.PA, ORCL, ORLY, OVH.PA, OXY, PAYC, PAYX, PBR-A, PCAR, PCCYF, PEG, PEP, PFE, PFG, PG, PGR, PH, PHM, PLD, PLTR, PLX.PA, PM, PNC, PNGAY, PNR, PNW, PPG, PPL, PPL.TO, PRGO, PROSY, PRU, PSA, PSX, PUB.PA, PUM.DE, PVH, PWR, PYPL, QBE.AX, QCOM, QRVO, RACE, RCL, RCO.PA, RCRUY, REG, REGN, RELX, RF, RF.PA, RHHBY, RHI, RI.PA, RIO.AX, RJF, RL, RMD, RNO.PA, ROK, ROL, ROP, ROST, RSG, RTX, RUI.PA, RWE.DE, RXL.PA, RY.TO, RYCEF, S32.AX, SAF.PA, SAFRY, SAN.PA, SAP, SAP.DE, SBAC, SBGSY, SBUX, SCCO, SCHW, SCR.PA, SEE, SESG.PA, SFTBY, SGO.PA, SHECY, SHEL, SHOP, SHOP.TO, SHW, SIE.DE, SIEGY, SJM, SK.PA, SLB, SLF.TO, SLG, SMFG, SNA, SNEJF, SNPS, SO, SOI.PA, SONY, SPG, SPGI, SPIE.PA, SPOT, SRE, STE, STLA, STLAP.PA, STMPA.PA, STOHF, STT, STX, STZ, SU.PA, SU.TO, SW.PA, SWK, SWKS, SYY, T, TAP, TCEHY, TD.TO, TDG, TE.PA, TEAM, TEL, TEP.PA, TER, TFC, TFI.PA, TFX, TGT, TJX, TKOMY, TLS.AX, TMO, TMUS, TOELY, TOYOF, TPR, TRMB, TROW, TRP.TO, TRV, TSCO, TSLA, TSM, TSN, TT, TTE.PA, TTWO, TXN, TXT, TYL, UA, UAA, UAL, UBER, UBI.PA, UDR, UHS, ULTA, UNCRY, UNH, UNM, UNP, UPS, URI, URW.PA, USB, USB-PH, USB-PP, V, VAC.PA, VFC, VIE.PA, VIV.PA, VK.PA, VLO, VMC, VNO, VOW.DE, VOW3.DE, VRLA.PA, VRSK, VRSN, VRTX, VTR, VZ, WAB, WAT, WBA, WBC.AX, WDAY, WDC, WEC, WELL, WFC, WFC-PC, WHR, WLN.PA, WM, WMB, WMT, WOW.AX, WRB, WU, WY, WYNN, XEL, XFAB.PA, XIACF, XIACY, XOM, XRAY, XRX, XYL, YUM, ZAL.DE, ZBH, ZBRA, ZION, ZTS, ZURVY\n\nCluster 1: SNPMF\n\nCluster 2: HCP\n\nCluster 3: SMFNF\n\nCluster 4: BLV.PA\n\nCluster 5: EXN.PA\n\nCluster 6: CICHF\n\nCluster 7: NPPXF\n\nCluster 8: RLLCF\n\nCluster 9: BHPLF\n\n💰 Allocation optimisée (€):\n----------------------------------------\nXIACF :   200.0€\nPLTR  :   191.5€\nSPOT  :   181.6€\nMSTR  :   146.0€\nIBKR  :   101.1€\nUAL   :    78.0€\nCICHF :    61.7€\nLB    :    39.0€\nZAL.DE:     1.1€\n\n📊 Métriques du portefeuille:\n----------------------------------------\nSharpe     : 4.51\nVolatilité : 30.0%\nRendement  : 135.3%\n"
        }
       ]
      }
     },
     "df58a8bcb93a4f89b99f76d5cbdb26f1": {
      "model_module": "@jupyter-widgets/base",
      "model_module_version": "2.0.0",
      "model_name": "LayoutModel",
      "state": {}
     },
     "e194b7eac9a14df6a12de5e95b3bf105": {
      "model_module": "@jupyter-widgets/controls",
      "model_module_version": "2.0.0",
      "model_name": "FloatTextModel",
      "state": {
       "description": "Sharpe Weight:",
       "layout": "IPY_MODEL_2ab8aed6bd274549a2de68f953cccd6b",
       "step": null,
       "style": "IPY_MODEL_3bcb56c1ca524390b9e278fd39b8bebe",
       "value": 0.4
      }
     },
     "e5717a0310634554b154c45427350b5e": {
      "model_module": "@jupyter-widgets/base",
      "model_module_version": "2.0.0",
      "model_name": "LayoutModel",
      "state": {}
     },
     "e60791c697254a9b8ccdca144f9f6928": {
      "model_module": "@jupyter-widgets/base",
      "model_module_version": "2.0.0",
      "model_name": "LayoutModel",
      "state": {}
     },
     "edb8db5b7dd7416a9a1765ac4813874d": {
      "model_module": "@jupyter-widgets/controls",
      "model_module_version": "2.0.0",
      "model_name": "IntSliderModel",
      "state": {
       "behavior": "drag-tap",
       "continuous_update": false,
       "description": "Top N Stocks:",
       "layout": "IPY_MODEL_efed15cc9e59433583ea6f35908af32b",
       "max": 931,
       "min": 1,
       "style": "IPY_MODEL_c0d11b8387ea477d8ee414ab65182c2d",
       "value": 10
      }
     },
     "efed15cc9e59433583ea6f35908af32b": {
      "model_module": "@jupyter-widgets/base",
      "model_module_version": "2.0.0",
      "model_name": "LayoutModel",
      "state": {}
     },
     "f3a5a0ba1b5a46a8847a450c2e6620ca": {
      "model_module": "@jupyter-widgets/base",
      "model_module_version": "2.0.0",
      "model_name": "LayoutModel",
      "state": {}
     },
     "f6d9c9860fb548668180b8fa42184bad": {
      "model_module": "@jupyter-widgets/base",
      "model_module_version": "2.0.0",
      "model_name": "LayoutModel",
      "state": {}
     },
     "fb1a1f9657294c01b29f64021d64eeae": {
      "model_module": "@jupyter-widgets/controls",
      "model_module_version": "2.0.0",
      "model_name": "ButtonStyleModel",
      "state": {
       "font_family": null,
       "font_size": null,
       "font_style": null,
       "font_variant": null,
       "font_weight": null,
       "text_color": null,
       "text_decoration": null
      }
     },
     "fc2ee91ce5574d74947e1a1e895da95e": {
      "model_module": "@jupyter-widgets/controls",
      "model_module_version": "2.0.0",
      "model_name": "FloatTextModel",
      "state": {
       "description": "Total Amount (€):",
       "layout": "IPY_MODEL_5cc4e741d37448dab58d59bf2675ff3b",
       "step": null,
       "style": "IPY_MODEL_aab036e62fc24979a6cc50e5763cf4db",
       "value": 1000
      }
     },
     "fc3c746de6514a97add2a9091ef54a96": {
      "model_module": "@jupyter-widgets/controls",
      "model_module_version": "2.0.0",
      "model_name": "ButtonModel",
      "state": {
       "description": "Analyze Portfolio",
       "layout": "IPY_MODEL_1427aadd4a8b44dbbe1a71eb58286162",
       "style": "IPY_MODEL_3d87701d402d4e0fa63c231a537a8f40",
       "tooltip": null
      }
     },
     "fe447d5a1e4a4250afe79e66dacd8406": {
      "model_module": "@jupyter-widgets/base",
      "model_module_version": "2.0.0",
      "model_name": "LayoutModel",
      "state": {}
     }
    },
    "version_major": 2,
    "version_minor": 0
   }
  }
 },
 "nbformat": 4,
 "nbformat_minor": 5
}
