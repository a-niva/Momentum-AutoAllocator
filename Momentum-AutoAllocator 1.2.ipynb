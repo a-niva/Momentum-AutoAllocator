{
 "cells": [
  {
   "cell_type": "code",
   "execution_count": 2,
   "id": "44e5ee22-d65d-44d2-a4c2-7bbb42599856",
   "metadata": {},
   "outputs": [
    {
     "data": {
      "application/vnd.jupyter.widget-view+json": {
       "model_id": "5eb088e1c2ab4df59cf1a4017e7b5a3b",
       "version_major": 2,
       "version_minor": 0
      },
      "text/plain": [
       "IntSlider(value=10, continuous_update=False, description='Top N Stocks:', max=931, min=1)"
      ]
     },
     "metadata": {},
     "output_type": "display_data"
    },
    {
     "data": {
      "application/vnd.jupyter.widget-view+json": {
       "model_id": "f1bb41e875c44171b011e8332e53c55d",
       "version_major": 2,
       "version_minor": 0
      },
      "text/plain": [
       "IntSlider(value=10, continuous_update=False, description='Clusters:', max=931, min=1)"
      ]
     },
     "metadata": {},
     "output_type": "display_data"
    },
    {
     "data": {
      "application/vnd.jupyter.widget-view+json": {
       "model_id": "ce3a52f2a8ae4758b98f266138c919a0",
       "version_major": 2,
       "version_minor": 0
      },
      "text/plain": [
       "FloatText(value=1000.0, description='Total Amount (€):', style=DescriptionStyle(description_width='initial'))"
      ]
     },
     "metadata": {},
     "output_type": "display_data"
    },
    {
     "data": {
      "application/vnd.jupyter.widget-view+json": {
       "model_id": "7d393b25d3dc46e4a74ffa0170ebbe26",
       "version_major": 2,
       "version_minor": 0
      },
      "text/plain": [
       "FloatText(value=0.6, description='Momentum Weight:', style=DescriptionStyle(description_width='initial'))"
      ]
     },
     "metadata": {},
     "output_type": "display_data"
    },
    {
     "data": {
      "application/vnd.jupyter.widget-view+json": {
       "model_id": "6eadb0b2a1da452ea70593931dd7e9e4",
       "version_major": 2,
       "version_minor": 0
      },
      "text/plain": [
       "FloatText(value=0.4, description='Sharpe Weight:', style=DescriptionStyle(description_width='initial'))"
      ]
     },
     "metadata": {},
     "output_type": "display_data"
    },
    {
     "data": {
      "application/vnd.jupyter.widget-view+json": {
       "model_id": "c46737eff3e74916954a07f0bce8404b",
       "version_major": 2,
       "version_minor": 0
      },
      "text/plain": [
       "FloatText(value=0.25, description='Max Volatility:', style=DescriptionStyle(description_width='initial'))"
      ]
     },
     "metadata": {},
     "output_type": "display_data"
    },
    {
     "data": {
      "application/vnd.jupyter.widget-view+json": {
       "model_id": "9f008d42a6da4627a5a1ce3ca70caaca",
       "version_major": 2,
       "version_minor": 0
      },
      "text/plain": [
       "Button(description='Analyze Portfolio', style=ButtonStyle())"
      ]
     },
     "metadata": {},
     "output_type": "display_data"
    },
    {
     "data": {
      "application/vnd.jupyter.widget-view+json": {
       "model_id": "34ac96223a9f40b8ae25b94b30fe699a",
       "version_major": 2,
       "version_minor": 0
      },
      "text/plain": [
       "Output()"
      ]
     },
     "metadata": {},
     "output_type": "display_data"
    }
   ],
   "source": [
    "import yfinance as yf\n",
    "import pandas as pd\n",
    "import numpy as np\n",
    "from datetime import datetime, timedelta\n",
    "from sklearn.cluster import AgglomerativeClustering\n",
    "from scipy.optimize import minimize\n",
    "import ipywidgets as widgets\n",
    "from IPython.display import display\n",
    "\n",
    "\n",
    "class DownloadFailureError(Exception):\n",
    "    pass\n",
    "\n",
    "def download_with_early_stop(tickers):\n",
    "    \"\"\"\n",
    "    Télécharge les données avec vérification des échecs après téléchargement\n",
    "    \"\"\"\n",
    "    max_failures = len(tickers) * 0.1  # 10% des tickers\n",
    "    \n",
    "    end_date = datetime.now().strftime('%Y-%m-%d')\n",
    "    start_date = (datetime.now() - timedelta(days=366)).strftime('%Y-%m-%d')\n",
    "    \n",
    "    try:\n",
    "        data = yf.download(\n",
    "            tickers,\n",
    "            start=start_date,\n",
    "            end=end_date,\n",
    "            progress=True,\n",
    "            timeout=5\n",
    "        )\n",
    "        \n",
    "        # Vérifier les échecs après téléchargement\n",
    "        failed_tickers = set(tickers) - set(data['Adj Close'].columns)\n",
    "        if len(failed_tickers) >= max_failures:\n",
    "            return None, f\"Arrêt : {len(failed_tickers)} échecs dépassent le seuil de {max_failures:.0f}. Tickers manquants : {', '.join(failed_tickers)}\"\n",
    "            \n",
    "        return data, None\n",
    "    except Exception as e:\n",
    "        return None, f\"Erreur inattendue : {str(e)}\"\n",
    "\n",
    "\n",
    "def get_portfolio_performance(data, tickers, top_n=None, min_hold_days=30, momentum_band=0.05):\n",
    "    if top_n is None:\n",
    "        top_n = min(10, len(tickers))\n",
    "\n",
    "    end_date = datetime.now()\n",
    "    ytd_start = end_date.replace(month=1, day=1).date()\n",
    "    \n",
    "    prices = data.dropna(axis=1, how='all')\n",
    "    if prices.empty:\n",
    "        raise ValueError(\"No valid price data found\")\n",
    "    \n",
    "    if not isinstance(prices.index, pd.DatetimeIndex):\n",
    "        prices.index = pd.to_datetime(prices.index)\n",
    "\n",
    "    end_date = datetime.now()\n",
    "    ytd_start = end_date.replace(month=1, day=1).date()\n",
    "    \n",
    "    if not isinstance(data.index, pd.DatetimeIndex):\n",
    "        data.index = pd.to_datetime(data.index)\n",
    "    \n",
    "    dates = {\n",
    "        'YTD': min(date for date in data.index.date if date >= ytd_start).strftime('%Y-%m-%d'),\n",
    "        '1m': data.index[-22].date().strftime('%Y-%m-%d'),\n",
    "        '1s': data.index[-6].date().strftime('%Y-%m-%d'),\n",
    "        '1j': data.index[-2].date().strftime('%Y-%m-%d')\n",
    "    }\n",
    "    \n",
    "    days_in_topN = {}\n",
    "    entry_dates = {}\n",
    "    consecutive_days = {ticker: 0 for ticker in tickers}\n",
    "    last_seen = {ticker: False for ticker in tickers}\n",
    "    \n",
    "    for day in range(len(data)):\n",
    "        momentum_day = ((data.iloc[day] / data.iloc[0] - 1) * 100).sort_values(ascending=False)\n",
    "        top_day = set(momentum_day.head(top_n).index)\n",
    "        \n",
    "        for ticker in tickers:\n",
    "            if ticker in top_day:\n",
    "                if not last_seen[ticker]:\n",
    "                    entry_dates[ticker] = data.index[day]\n",
    "                consecutive_days[ticker] += 1\n",
    "                last_seen[ticker] = True\n",
    "            else:\n",
    "                if last_seen[ticker]:\n",
    "                    days_in_topN[ticker] = consecutive_days[ticker]\n",
    "                consecutive_days[ticker] = 0\n",
    "                last_seen[ticker] = False\n",
    "    \n",
    "    for ticker in tickers:\n",
    "        if last_seen[ticker]:\n",
    "            days_in_topN[ticker] = consecutive_days[ticker]\n",
    "    \n",
    "    momentum_365 = ((data.iloc[-1] / data.iloc[0] - 1) * 100).sort_values(ascending=False)\n",
    "    momentum_prev = ((data.iloc[-2] / data.iloc[0] - 1) * 100).sort_values(ascending=False)\n",
    "    \n",
    "    # Vérifier la période de détention minimale\n",
    "    current_holdings = set()\n",
    "    for ticker in momentum_prev.head(top_n).index:\n",
    "        if ticker in days_in_topN and days_in_topN[ticker] < min_hold_days:\n",
    "            current_holdings.add(ticker)\n",
    "    \n",
    "    # Appliquer la bande de roulement\n",
    "    potential_exits = set()\n",
    "    for ticker in current_holdings:\n",
    "        current_momentum = momentum_365[ticker]\n",
    "        threshold = momentum_365.iloc[top_n-1] * (1 - momentum_band)\n",
    "        if current_momentum < threshold:\n",
    "            potential_exits.add(ticker)\n",
    "    \n",
    "    # Ne sortir que les positions ayant dépassé la période minimale\n",
    "    final_exits = set()\n",
    "    for ticker in potential_exits:\n",
    "        if days_in_topN.get(ticker, 0) >= min_hold_days:\n",
    "            final_exits.add(ticker)\n",
    "    \n",
    "    # Mettre à jour le top_n actuel\n",
    "    current_top = momentum_365.head(top_n)\n",
    "    maintained_positions = current_holdings - final_exits\n",
    "    new_positions = set(current_top.index) - maintained_positions\n",
    "    \n",
    "    # Limiter les nouvelles positions pour respecter le top_n\n",
    "    available_slots = top_n - len(maintained_positions)\n",
    "    if available_slots > 0:\n",
    "        new_positions = set(list(new_positions)[:available_slots])\n",
    "    \n",
    "    final_positions = maintained_positions.union(new_positions)\n",
    "    final_top = momentum_365[list(final_positions)]\n",
    "    \n",
    "    perf_since_entry = {}\n",
    "    for ticker in final_top.index:\n",
    "        if ticker in entry_dates:\n",
    "            entry_price = data[ticker].loc[entry_dates[ticker]]\n",
    "            current_price = data[ticker].iloc[-1]\n",
    "            perf_since_entry[ticker] = ((current_price / entry_price - 1) * 100)\n",
    "    \n",
    "    portfolio_data = data[final_top.index]\n",
    "    \n",
    "    perf = {\n",
    "        '1a': (portfolio_data.iloc[-1] / portfolio_data.iloc[0] - 1).mean() * 100\n",
    "    }\n",
    "    \n",
    "    for period, ref_date_str in dates.items():\n",
    "        ref_date = pd.to_datetime(ref_date_str).date()\n",
    "        ref_idx = portfolio_data.index[portfolio_data.index.date <= ref_date][-1]\n",
    "        ref_data = portfolio_data.loc[ref_idx]\n",
    "        perf[period] = (portfolio_data.iloc[-1] / ref_data - 1).mean() * 100\n",
    "    \n",
    "    val_100 = 100\n",
    "    valorisations = {k: val_100 / (1 + v/100) for k, v in perf.items()}\n",
    "    valorisations['Actuelle'] = val_100\n",
    "    \n",
    "    return final_top, perf, valorisations, new_positions, final_exits, days_in_topN, data, perf_since_entry\n",
    "\n",
    "def optimize_vol_constrained(allocation, returns, max_vol):\n",
    "    def portfolio_vol(weights):\n",
    "        return np.sqrt(252) * (returns * weights).sum(axis=1).std()\n",
    "    \n",
    "    def objective(weights):\n",
    "        return -((returns * weights).sum(axis=1).mean() * 252)\n",
    "    \n",
    "    constraints = [\n",
    "        {'type': 'eq', 'fun': lambda x: np.sum(x) - 1},\n",
    "        {'type': 'ineq', 'fun': lambda x: max_vol - portfolio_vol(x)}\n",
    "    ]\n",
    "    bounds = [(0, 0.2) for _ in range(len(returns.columns))]\n",
    "    \n",
    "    result = minimize(objective, allocation/sum(allocation), \n",
    "                    constraints=constraints, bounds=bounds, method='SLSQP')\n",
    "    return result.x * sum(allocation)\n",
    "\n",
    "def get_balanced_portfolio(data, tickers, total_amount=1000, n_clusters=10, \n",
    "                         momentum_weight=0.6, sharpe_weight=0.4, max_vol=0.25,\n",
    "                         min_position_weight=0.02):\n",
    "    # Vérifier la présence de données valides\n",
    "    if data.empty:\n",
    "        raise ValueError(\"No data available\")\n",
    "        \n",
    "    # Obtenir uniquement les tickers valides avec des données non-NaN\n",
    "    adj_close = data['Adj Close'].dropna(axis=1, how='all')\n",
    "    volume = data['Volume'].dropna(axis=1, how='all')\n",
    "    \n",
    "    if adj_close.empty or volume.empty:\n",
    "        raise ValueError(\"No valid price data found\")\n",
    "        \n",
    "    valid_tickers = adj_close.columns.intersection(volume.columns)\n",
    "    if len(valid_tickers) == 0:\n",
    "        raise ValueError(\"No valid tickers found\")\n",
    "    \n",
    "    # Calculer les rendements\n",
    "    returns = adj_close[valid_tickers].pct_change(fill_method=None).fillna(0)\n",
    "    mean_volume = volume[valid_tickers].mean()\n",
    "    \n",
    "    # Filtrer les actions liquides\n",
    "    liquid_stocks = mean_volume[mean_volume > mean_volume.quantile(0.2)].index\n",
    "    if len(liquid_stocks) == 0:\n",
    "        raise ValueError(\"No liquid stocks found\")\n",
    "        \n",
    "    liquid_returns = returns[liquid_stocks]\n",
    "    \n",
    "    distances = 1 - liquid_returns.corr()\n",
    "    clusters = pd.Series(AgglomerativeClustering(n_clusters=min(n_clusters, len(liquid_stocks)), \n",
    "                                               distance_threshold=None,\n",
    "                                               metric='precomputed',\n",
    "                                               linkage='single')\n",
    "                       .fit_predict(distances), index=liquid_returns.columns)\n",
    "    \n",
    "    vol = liquid_returns.std() * np.sqrt(252)\n",
    "    momentum = ((data['Adj Close'][liquid_stocks].iloc[-1] / \n",
    "                data['Adj Close'][liquid_stocks].iloc[0] - 1) * 100).fillna(0)\n",
    "    sharpe = (liquid_returns.mean() * 252) / vol\n",
    "    \n",
    "    cluster_weights = {}\n",
    "    n_clusters = clusters.max() + 1\n",
    "    for i in range(n_clusters):\n",
    "        cluster_assets = clusters[clusters == i].index\n",
    "        if len(cluster_assets) > 0:\n",
    "            cluster_momentum = momentum[cluster_assets].clip(-100, 100).mean()\n",
    "            cluster_sharpe = sharpe[cluster_assets].clip(-3, 3).mean()\n",
    "            cluster_weights[i] = max(0, np.nansum([momentum_weight * cluster_momentum, \n",
    "                                                sharpe_weight * cluster_sharpe]))\n",
    "    \n",
    "    allocation = pd.Series(0.0, index=liquid_stocks)\n",
    "    if sum(cluster_weights.values()) > 0:\n",
    "        for i, weight in cluster_weights.items():\n",
    "            cluster_assets = clusters[clusters == i].index\n",
    "            if len(cluster_assets) > 0:\n",
    "                asset_scores = (0.7 * momentum[cluster_assets].rank() + \n",
    "                              0.3 * sharpe[cluster_assets].rank()).clip(0, None)\n",
    "                if asset_scores.sum() > 0:\n",
    "                    allocation[cluster_assets] = total_amount * float(weight/sum(cluster_weights.values())) * (asset_scores / asset_scores.sum())\n",
    "    \n",
    "    # Appliquer le poids minimum par position\n",
    "    allocation[allocation < min_position_weight * total_amount] = 0\n",
    "    if allocation.sum() > 0:\n",
    "        allocation = allocation / allocation.sum() * total_amount\n",
    "    \n",
    "    nonzero_allocation = allocation[allocation > 0]\n",
    "    if len(nonzero_allocation) > 0:\n",
    "        nonzero_returns = liquid_returns[nonzero_allocation.index]\n",
    "        optimized = optimize_vol_constrained(nonzero_allocation, nonzero_returns, max_vol)\n",
    "        allocation = pd.Series(optimized, index=nonzero_returns.columns)\n",
    "    \n",
    "    final_allocation = pd.Series(0.0, index=tickers)\n",
    "    final_allocation[allocation.index] = allocation\n",
    "    \n",
    "    port_weights = final_allocation / total_amount\n",
    "    metrics = {\n",
    "        'return': (returns * port_weights).sum(axis=1).mean() * 252,\n",
    "        'volatility': (returns * port_weights).sum(axis=1).std() * np.sqrt(252),\n",
    "        'sharpe': ((returns * port_weights).sum(axis=1).mean() * 252) / \n",
    "                 ((returns * port_weights).sum(axis=1).std() * np.sqrt(252))\n",
    "    }\n",
    "    \n",
    "    return final_allocation.round(2), metrics, clusters\n",
    "\n",
    "def interactive_portfolio_analysis(TICKERS, min_hold_days=30, momentum_band=0.05, min_position_weight=0.02):\n",
    "    top_n_slider = widgets.IntSlider(\n",
    "        value=10,\n",
    "        min=1,\n",
    "        max=len(TICKERS),\n",
    "        step=1,\n",
    "        description='Top N Stocks:',\n",
    "        continuous_update=False\n",
    "    )\n",
    "    \n",
    "    clusters_slider = widgets.IntSlider(\n",
    "        value=10,\n",
    "        min=1,\n",
    "        max=len(TICKERS),\n",
    "        step=1,\n",
    "        description='Clusters:',\n",
    "        continuous_update=False\n",
    "    )\n",
    "    \n",
    "    amount_text = widgets.FloatText(\n",
    "        value=1000,\n",
    "        description='Total Amount (€):',\n",
    "        style={'description_width': 'initial'}\n",
    "    )\n",
    "\n",
    "    momentum_weight_text = widgets.FloatText(\n",
    "        value=0.6,\n",
    "        description='Momentum Weight:',\n",
    "        style={'description_width': 'initial'}\n",
    "    )\n",
    "\n",
    "    sharpe_weight_text = widgets.FloatText(\n",
    "        value=0.4,\n",
    "        description='Sharpe Weight:',\n",
    "        style={'description_width': 'initial'}\n",
    "    )\n",
    "\n",
    "    max_vol_text = widgets.FloatText(\n",
    "        value=0.25,\n",
    "        description='Max Volatility:',\n",
    "        style={'description_width': 'initial'}\n",
    "    )\n",
    "    \n",
    "    analyze_button = widgets.Button(description=\"Analyze Portfolio\")\n",
    "    output = widgets.Output()\n",
    "    \n",
    "    def on_analyze_button_clicked(b):\n",
    "        with output:\n",
    "            output.clear_output()\n",
    "\n",
    "            print(\"📥 Téléchargement des données...\")\n",
    "            data, error = download_with_early_stop(TICKERS)\n",
    "\n",
    "            if error:\n",
    "                print(\"\\n⚠️ ERREUR DE TÉLÉCHARGEMENT\")\n",
    "                print(\"=\" * 80)\n",
    "                print(error)\n",
    "                return\n",
    "\n",
    "            top_n = top_n_slider.value\n",
    "            n_clusters = clusters_slider.value\n",
    "            total_amount = amount_text.value\n",
    "            momentum_weight = momentum_weight_text.value\n",
    "            sharpe_weight = sharpe_weight_text.value\n",
    "            max_vol = max_vol_text.value\n",
    "\n",
    "            print(f\"\\n📊 ANALYSE MOMENTUM TOP {top_n}\")\n",
    "            print(\"=\" * 80)\n",
    "\n",
    "            print(f\"\\n📊 ANALYSE MOMENTUM TOP {top_n}\")\n",
    "            print(\"=\" * 80)\n",
    "            \n",
    "            print(f\"\\n📊 ANALYSE MOMENTUM TOP {top_n}\")\n",
    "            print(\"=\" * 80)\n",
    "            \n",
    "            top_stocks, perf, vals, entries, exits, days_in_top, momentum_data, perf_since_entry = get_portfolio_performance(\n",
    "                data['Adj Close'], TICKERS, top_n, min_hold_days, momentum_band\n",
    "            )\n",
    "            \n",
    "            print(\"\\n🏆 Classement Momentum 365j:\")\n",
    "            print(f\"{'#':2} {'Ticker':6} {'Momentum':>9} {'Jours Top':>11} {'Cours':>10} {'Perf.Entry':>10}\")\n",
    "            print(\"-\" * 80)\n",
    "            for i, (ticker, momentum) in enumerate(top_stocks.items(), 1):\n",
    "                current_price = momentum_data[ticker].iloc[-1]\n",
    "                perf_entry = perf_since_entry.get(ticker, 0)\n",
    "                print(f\"{i:2d} {ticker:6} {momentum:8.1f}% {days_in_top.get(ticker,0):8d}j {current_price:10.2f}€ {perf_entry:9.1f}%\")\n",
    "            \n",
    "            print(\"\\n📈 Performance du portefeuille:\")\n",
    "            print(\"-\" * 40)\n",
    "            print(f\"{'Actuel':12} : {'---':>6} (val. {vals['Actuelle']:6.2f})\")\n",
    "            \n",
    "            periods = {'1j': '1 jour', '1s': '1 semaine', '1m': '1 mois', '1a': '1 an', 'YTD': 'Depuis 01/01'}\n",
    "            for p in ['1j', '1s', '1m', 'YTD', '1a']:\n",
    "                print(f\"{periods[p]:12} : {perf[p]:6.2f}% (val. {vals[p]:6.2f})\")\n",
    "            \n",
    "            if entries or exits:\n",
    "                print(\"\\n🔄 Changements depuis hier:\")\n",
    "                if entries:\n",
    "                    print(f\"  Entrées : {', '.join(entries)}\")\n",
    "                if exits:\n",
    "                    print(f\"  Sorties : {', '.join(exits)}\")\n",
    "            \n",
    "            print(\"\\n\\n💼 ANALYSE PORTEFEUILLE ÉQUILIBRÉ\")\n",
    "            print(\"=\" * 80)\n",
    "            \n",
    "            allocation, metrics, clusters = get_balanced_portfolio(\n",
    "                data, TICKERS, total_amount, n_clusters,\n",
    "                momentum_weight=momentum_weight,\n",
    "                sharpe_weight=sharpe_weight,\n",
    "                max_vol=max_vol,\n",
    "                min_position_weight=min_position_weight\n",
    "            )\n",
    "            \n",
    "            print(\"\\n🔍 Clusters identifiés:\")\n",
    "            for i in range(clusters.max() + 1):\n",
    "                print(f\"\\nCluster {i}: {', '.join(clusters[clusters == i].index)}\")\n",
    "\n",
    "            print(\"\\n💰 Allocation optimisée (€):\")\n",
    "            print(\"-\" * 40)\n",
    "            for ticker, amount in allocation.sort_values(ascending=False).items():\n",
    "                if amount > 0:\n",
    "                    print(f\"{ticker:6}: {amount:7.1f}€\")\n",
    "\n",
    "            print(\"\\n📊 Métriques du portefeuille:\")\n",
    "            print(\"-\" * 40)\n",
    "            print(f\"Sharpe     : {metrics['sharpe']:.2f}\")\n",
    "            print(f\"Volatilité : {metrics['volatility']*100:.1f}%\")\n",
    "            print(f\"Rendement  : {metrics['return']*100:.1f}%\")\n",
    "    \n",
    "    analyze_button.on_click(on_analyze_button_clicked)\n",
    "    \n",
    "    # Display widgets\n",
    "    display(top_n_slider, clusters_slider, amount_text, momentum_weight_text, sharpe_weight_text, max_vol_text, analyze_button, output)\n",
    "\n",
    "\n",
    "# Usage example (commented out)\n",
    "TICKERS = [\n",
    "    \"MC.PA\",\"OR.PA\",\"SU.PA\",\"AIR.PA\",\"TTE.PA\",\"SAN.PA\",\"CDI.PA\",\"EL.PA\",\"SAF.PA\",\"AI.PA\",\"BNP.PA\",\"CS.PA\",\"AXA SA\",\"DG.PA\",\"DSY.PA\",\"SGO.PA\",\"BN.PA\",\"ACA.PA\",\"ENGI.PA\",\"KER.PA\",\"HO.PA\",\"CAP.PA\",\"RI.PA\",\"LR.PA\",\"ORA.PA\",\"PUB.PA\",\n",
    "    \"GLE.PA\",\"ML.PA\",\"DIM.PA\",\"VIE.PA\",\"AM.PA\",\"BOL.PA\",\"RNO.PA\",\"BVI.PA\",\"AMUN.PA\",\"BIM.PA\",\"AC.PA\",\"EN.PA\",\"ENX.PA\",\"ADP.PA\",\"URW.PA\",\"SW.PA\",\"IPN.PA\",\"RNL.PA\",\"ERF.PA\",\"ALO.PA\",\"CA.PA\",\"FGR.PA\",\"LI.PA\",\"GET.PA\",\"EDEN.PA\",\"RXL.PA\",\"IAM.PA\",\n",
    "    \"CBDG.PA\",\"GFC.PA\",\"FDJ.PA\",\"ODET.PA\",\"COTY.PA\",\"AKE.PA\",\"AYV.PA\",\"RF.PA\",\"COV.PA\",\"Covivio\",\"GTT.PA\",\"SPIE.PA\",\"SPIE SA\",\"TEP.PA\",\"SK.PA\",\"SEB SA\",\"TE.PA\",\"ELIS.PA\",\"Elis SA\",\"SCR.PA\",\"SCOR SE\",\"VK.PA\",\"NEX.PA\",\"MF.PA\",\"MLHK.PA\",\"H&K AG\",\n",
    "    \"TKO.PA\",\"FLY.PA\",\"SOP.PA\",\"DEC.PA\",\"PLX.PA\",\"ITP.PA\",\"VRLA.PA\",\"SOI.PA\",\"RCO.PA\",\"COVH.PA\",\"MMB.PA\",\"ATE.PA\",\"VU.PA\",\"FR.PA\",\"IDL.PA\",\"BB.PA\",\"RUI.PA\",\"VIRP.PA\",\"TRI.PA\",\"BAIN.PA\",\"VIV.PA\",\"COFA.PA\",\"CARM.PA\",\"LOUP.PA\",\"NK.PA\",\"WLN.PA\",\n",
    "    \"ALTA.PA\",\"UNBL.PA\",\"IPS.PA\",\"CAF.PA\",\"AF.PA\",\"PLNW.PA\",\"CBE.PA\",\"VCT.PA\",\"PEUG.PA\",\"RBT.PA\",\"EXN.PA\",\"STF.PA\",\"STEF SA\",\"ICAD.PA\",\"SESG.PA\",\"OPM.PA\",\"ERA.PA\",\"ARG.PA\",\"TFI.PA\",\"TF1 SA\",\"UBI.PA\",\"OVH.PA\",\"MMT.PA\",\"ES.PA\",\"BLV.PA\",\"MAU.PA\",\n",
    "    \"GDS.PA\",\"FII.PA\",\"WAVE.PA\",\"EXOSENS\",\"CRLA.PA\",\"NRO.PA\",\"LSS.PA\",\"MERY.PA\",\"EMEIS\",\"ETL.PA\",\"ELEC.PA\",\"FREY.PA\",\"Frey SA\",\"DBG.PA\",\"CNDF.PA\",\"LTA.PA\",\"CDA.PA\",\"FNAC.PA\",\"MTU.PA\",\"VETO.PA\",\"TKTT.PA\",\"VIL.PA\",\"BEN.PA\",\"EC.PA\",\"VAC.PA\",\"SAVE.PA\",\n",
    "    \"BASS.PA\",\"NXI.PA\",\"XFAB.PA\",\"SDG.PA\",\"THEP.PA\",\"CRAV.PA\",\"CRSU.PA\",\"CRAP.PA\",\"CEN.PA\",\"SCHP.PA\",\"TFF.PA\",\"KOF.PA\",\"QDT.PA\",\"LPE.PA\",\"SBT.PA\",\"EQS.PA\",\"BUR.PA\",\"AUB.PA\",\"GLO.PA\",\"NVDA\",\"AAPL\",\"MSFT\",\"AMZN\",\"GOOGL\",\"GOOG\",\"META\",\"TSLA\",\"AVGO\",\n",
    "    \"BRK-B\",\"ORCL\",\"TCEHY\",\"TCTZF\",\"NFLX\",\"COST\",\"NONOF\",\"LVMHF\",\"LVMUY\",\"JPM-PD\",\"JPM-PC\",\"BML-PG\",\"SAPGF\",\"BML-PH\",\"BML-PL\",\"BAC-PE\",\"IDCBY\",\"BAC-PK\",\"SSNLF\",\"ABBV\",\"IDCBF\",\"HESAY\",\"ASMLF\",\"ASML\",\"GDVTZ\",\"ACGBF\",\"TMUS\",\"BML-PJ\",\"BAC-PB\",\"RHHBF\",\n",
    "    \"CSCO\",\"RHHVF\",\"RHHBY\",\"TOYOF\",\"ACGBY\",\"BABAF\",\"AZNCF\",\"BABA\",\"NSRGY\",\"NSRGF\",\"ISRG\",\"CICHY\",\"RYDAF\",\"BACHY\",\"LRLCY\",\"WFC-PY\",\"NVSEF\",\"BACHF\",\"SHEL\",\"CICHF\",\"LRLCF\",\"PCCYF\",\"ADBE\",\"QCOM\",\"HBCYF\",\"HSBC\",\"CMWAY\",\"PLTR\",\"SIEGY\",\"SMAWF\",\"INTU\",\"ANET\",\n",
    "    \"CBAUF\",\"IDEXF\",\"SBGSF\",\"SPGI\",\"IDEXY\",\"SBGSY\",\"MBFJF\",\"DTEGF\",\"AMAT\",\"DTEGY\",\"FMXUF\",\"SCHW\",\"CIHKY\",\"MUFG\",\"AMGN\",\"UBER\",\"CMCSA\",\"UNLYF\",\"SHOP\",\"EADSF\",\"EADSY\",\"BHPLF\",\"SNYNF\",\"TTFNF\",\"SNEJF\",\"CHDRY\",\"CILJF\",\"SONY\",\"CHDRF\",\"WFC-PC\",\"ALIZF\",\"ALIZY\",\n",
    "    \"HTHIF\",\"ESLOY\",\"RTNTF\",\"HTHIY\",\"MPNGF\",\"Meituan\",\"ESLOF\",\"CIHHF\",\"XIACY\",\"MPNGY\",\"PNGAY\",\"XIACF\",\"CIIHF\",\"GILD\",\"PIAIF\",\"VRTX\",\"BYDDF\",\"BYDDY\",\"SBUX\",\"SAFRF\",\"SAFRY\",\"CFRUY\",\"CUAEF\",\"CFRHF\",\"ABBNY\",\"ABLZF\",\"MRVL\",\"KYCCF\",\"RCRUY\",\"UNCFF\",\"UNCRY\",\n",
    "    \"CSUAY\",\"SPOT\",\"FRCOF\",\"RCRRF\",\"LRCX\",\"KLAC\",\"SMFNF\",\"SNPMF\",\"SFTBF\",\"FRCOY\",\"AIQUY\",\"AIQUF\",\"SFTBY\",\"SMFG\",\"RTPPF\",\"BUDFF\",\"USB-PH\",\"IBKR\",\"CRWD\",\"DBSDY\",\"RLXXF\",\"EQIX\",\"RELX\",\"INTC\",\"INFY\",\"IVSXF\",\"PYPL\",\"EBBNF\",\"DBSDF\",\"PROSF\",\"PROSY\",\"GS-PA\",\n",
    "    \"IBDRY\",\"IBDSF\",\"CDNS\",\"NPPXF\",\"IVSBF\",\"ZFSVF\",\"MS-PA\",\"ZURVY\",\"WELL\",\"BNPQF\",\"BNPQY\",\"SNPS\",\"ATLCY\",\"TOELF\",\"BPAQF\",\"AXAHF\",\"AXAHY\",\"CSLLY\",\"MSTR\",\"CMXHF\",\"ATLKY\",\"MS-PK\",\"TOELY\",\"GS-PD\",\"MS-PI\",\"PBR-A\",\"NTTYY\",\"MS-PF\",\"IITSF\",\"BTAFF\",\"BCDRF\",\n",
    "    \"DELL\",\"CTAS\",\"ABNB\",\"MS-PE\",\"AAIGF\",\"LNSTY\",\"LDNXF\",\"ISNPY\",\"RACE\",\"MDLZ\",\"HNHPF\",\"AAGIY\",\"SCCO\",\"DASH\",\"CGXYY\",\"PBCRF\",\"USB-PP\",\"COIN\",\"NTDOF\",\"SBKFF\",\"FTNT\",\"REGN\",\"NTDOY\",\"MURGY\",\"MURGF\",\"PBCRY\",\"ESOCF\",\"WEBNF\",\"ENLAY\",\"NABZY\",\"BKFCF\",\"PSTVY\",\n",
    "    \"GLAXF\",\"BCMXY\",\"TEAM\",\"CHGCY\",\"TKOMF\",\"CHGCF\",\"PSBKF\",\"WDAY\",\"ITOCF\",\"RLLCF\",\"MKGAF\",\"NTES\",\"MKKGY\",\"SHECY\",\"BBVXF\",\"ITOCY\",\"STOHF\",\"RBSPF\",\"TKOMY\",\"DGEAF\",\"EQNR\",\"PPWLM\",\"ADSK\",\"BBVA\",\"RYCEF\",\"DBK.DE\",\"EI.PA\",\"ENEL.MI\",\"FRE.DE\",\"IBE.MC\",\"INGA.AS\",\n",
    "    \"ISP.MI\",\"EOAN.DE\",\"G.MI\",\"ALV.DE\",\"BBVA.MC\",\"BAYN.DE\",\"ABI.BR\",\"ENI.MI\",\"BMW.DE\",\"ASML.AS\",\"DTE.DE\",\"BAS.DE\",\"EURUSD=X\",\"MT.AS\",\"RMS.PA\",\"STLAP.PA\",\"STMPA.PA\",\"V\",\"JPM\",\"JNJ\",\"WMT\",\"PG\",\"MA\",\"DIS\",\"HD\",\"VZ\",\"UNH\",\"KO\",\"PFE\",\"XOM\",\"MRK\",\"NKE\",\"ABT\",\n",
    "    \"PEP\",\"CRM\",\"TMO\",\"MDT\",\"LLY\",\"MS\",\"BA\",\"STLA\",\"NESN.SW\",\"A\",\"AAL\",\"AAP\",\"ACN\",\"ADI\",\"ADM\",\"ADP\",\"AEE\",\"AEP\",\"AES\",\"AFL\",\"AIG\",\"AIV\",\"AIZ\",\"AJG\",\"AKAM\",\"ALB\",\"ALGN\",\"ALK\",\"ALL\",\"ALLE\",\"AMD\",\"AME\",\"AMP\",\"AMT\",\"ANSS\",\"AON\",\"AOS\",\"APA\",\"APD\",\"APH\",\"APTV\",\n",
    "    \"ARE\",\"ATO\",\"AVB\",\"AVY\",\"AWK\",\"AXP\",\"AZO\",\"BAC\",\"BAX\",\"BBY\",\"BDX\",\"BEN\",\"BIIB\",\"BK\",\"BKNG\",\"BKR\",\"BLK\",\"BMY\",\"BR\",\"BSX\",\"BWA\",\"BXP\",\"C\",\"CAG\",\"CAH\",\"CAT\",\"CB\",\"CBOE\",\"CBRE\",\"CCI\",\"CCL\",\"CE\",\"CF\",\"CFG\",\"CHD\",\"CHRW\",\"CHTR\",\"CI\",\"CINF\",\"CL\",\"CLX\",\"CMA\",\"CME\",\n",
    "    \"CMG\",\"CMI\",\"CMS\",\"CNC\",\"CNP\",\"COF\",\"COO\",\"COP\",\"CPB\",\"CPRT\",\"CSX\",\"CVS\",\"CVX\",\"D\",\"DAL\",\"DD\",\"DE\",\"DFS\",\"DG\",\"DGX\",\"DHI\",\"DHR\",\"DLR\",\"DLTR\",\"DOV\",\"DOW\",\"DRI\",\"DTE\",\"DUK\",\"DVA\",\"DVN\",\"DXC\",\"EA\",\"EBAY\",\"ECL\",\"ED\",\"EFX\",\"EIX\",\"EL\",\"EMN\",\"EMR\",\"EOG\",\"EQR\",\"ES\",\n",
    "    \"ESS\",\"ETN\",\"ETR\",\"EVRG\",\"EW\",\"EXC\",\"EXPD\",\"EXPE\",\"EXR\",\"F\",\"FANG\",\"FAST\",\"FCX\",\"FDX\",\"FE\",\"FFIV\",\"FIS\",\"FITB\",\"FLR\",\"FLS\",\"FMC\",\"FOX\",\"FOXA\",\"FTV\",\"GD\",\"GE\",\"GIS\",\"GL\",\"GLW\",\"GM\",\"GPC\",\"GPN\",\"GS\",\"GWW\",\"HAL\",\"HAS\",\"HBAN\",\"HBI\",\"HCA\",\"HCP\",\"HES\",\"HIG\",\"HII\",\n",
    "    \"HLT\",\"HOG\",\"HOLX\",\"HON\",\"HP\",\"HPE\",\"HPQ\",\"HRB\",\"HRL\",\"HSIC\",\"HST\",\"HSY\",\"HUM\",\"IBM\",\"ICE\",\"IDXX\",\"IEX\",\"IFF\",\"ILMN\",\"INCY\",\"INFO\",\"IP\",\"IPG\",\"IPGP\",\"IQV\",\"IR\",\"IRM\",\"IT\",\"ITW\",\"IVZ\",\"J\",\"JBHT\",\"JCI\",\"JKHY\",\"JNPR\",\"JWN\",\"K\",\"KEY\",\"KEYS\",\"KHC\",\"KIM\",\"KMB\",\n",
    "    \"KMI\",\"KMX\",\"KR\",\"KSS\",\"L\",\"LB\",\"LDOS\",\"LEG\",\"LEN\",\"LH\",\"LHX\",\"LIN\",\"LKQ\",\"LMT\",\"LNC\",\"LNT\",\"LOW\",\"LUV\",\"LW\",\"LYB\",\"M\",\"MAA\",\"MAC\",\"MAR\",\"MAS\",\"MCD\",\"MCHP\",\"MCK\",\"MCO\",\"MET\",\"MGM\",\"MHK\",\"MKC\",\"MKTX\",\"MLM\",\"MMC\",\"MMM\",\"MNST\",\"MO\",\"MOS\",\"MPC\",\"MSCI\",\"MSI\",\n",
    "    \"MTB\",\"MTD\",\"MU\",\"NAVI\",\"NCLH\",\"NDAQ\",\"NEE\",\"NEM\",\"NI\",\"NOC\",\"NOV\",\"NRG\",\"NSC\",\"NTAP\",\"NTRS\",\"NUE\",\"NVR\",\"NWL\",\"NWS\",\"NWSA\",\"O\",\"ODFL\",\"OKE\",\"OMC\",\"ORLY\",\"OXY\",\"PAYC\",\"PAYX\",\"PCAR\",\"PEG\",\"PFG\",\"PGR\",\"PH\",\"PHM\",\"PLD\",\"PM\",\"PNC\",\"PNR\",\"PNW\",\"PPG\",\"PPL\",\n",
    "    \"PRGO\",\"PRU\",\"PSA\",\"PSX\",\"PVH\",\"PWR\",\"QRVO\",\"RCL\",\"REG\",\"RF\",\"RHI\",\"RJF\",\"RL\",\"RMD\",\"ROK\",\"ROL\",\"ROP\",\"ROST\",\"RSG\",\"RTX\",\"SBAC\",\"SEE\",\"SHW\",\"SJM\",\"SLB\",\"SLG\",\"SNA\",\"SO\",\"SPG\",\"SRE\",\"STE\",\"STT\",\"STX\",\"STZ\",\"SWK\",\"SWKS\",\"SYY\",\"T\",\"TAP\",\"TDG\",\"TEL\",\"TER\",\n",
    "    \"TFC\",\"TFX\",\"TGT\",\"TJX\",\"TPR\",\"TRMB\",\"TROW\",\"TRV\",\"TSCO\",\"TSN\",\"TT\",\"TTWO\",\"TXN\",\"TXT\",\"TYL\",\"UA\",\"UAA\",\"UAL\",\"UDR\",\"UHS\",\"ULTA\",\"UNM\",\"UNP\",\"UPS\",\"URI\",\"USB\",\"VFC\",\"VLO\",\"VMC\",\"VNO\",\"VRSK\",\"VRSN\",\"VTR\",\"WAB\",\"WAT\",\"WBA\",\"WDC\",\"WEC\",\"WFC\",\"WHR\",\"WM\",\n",
    "    \"WMB\",\"WRB\",\"WU\",\"WY\",\"WYNN\",\"XEL\",\"XRAY\",\"XRX\",\"XYL\",\"YUM\",\"ZBH\",\"ZBRA\",\"ZION\",\"ZTS\",\"ADS.DE\",\"CON.DE\",\"DB1.DE\",\"LHA.DE\",\"LIN.DE\",\"MUV2.DE\",\"RWE.DE\",\"SAP.DE\",\"SIE.DE\",\"VOW3.DE\",\"ZAL.DE\",\"AAL.L\",\"ABF.L\",\"ADM.L\",\"AHT.L\",\"AV.L\",\"BA.L\",\"BARC.L\",\"BATS.L\",\n",
    "    \"BP.L\",\"BTI\",\"CNA.L\",\"DGE.L\",\"GSK.L\",\"HSBA.L\",\"IMB.L\",\"ITV.L\",\"LGEN.L\",\"LLOY.L\",\"RDSA.VI\",\"PUM.DE\",\"NOKIA.HE\",\"2388.HK\",\"1398.HK\",\"600519.SS\",\"601988.SS\",\"601288.SS\",\"601318.SS\",\"000651.SZ\",\"002475.SZ\",\"BHP.AX\",\"CBA.AX\",\"TLS.AX\",\n",
    "    \"WBC.AX\",\"CSL.AX\",\"NAB.AX\",\"ANZ.AX\",\"RIO.AX\",\"QBE.AX\",\"WOW.AX\",\"S32.AX\",\"FMG.AX\",\"MQG.AX\",\"TD.TO\",\"RY.TO\",\"BNS.TO\",\"ENB.TO\",\"SU.TO\",\"CNQ.TO\",\"BMO.TO\",\"SHOP.TO\",\"SLF.TO\",\"MFC.TO\",\"PPL.TO\",\"TRP.TO\",\"TSM\",\"SAP\",\"VOW.DE\",\n",
    "]\n",
    "interactive_portfolio_analysis(TICKERS, min_hold_days=10, momentum_band=0.05, min_position_weight=0.02)"
   ]
  },
  {
   "cell_type": "code",
   "execution_count": null,
   "id": "8f47544f-a330-4440-91fb-4a1bba8b32e3",
   "metadata": {},
   "outputs": [
    {
     "name": "stdout",
     "output_type": "stream",
     "text": [
      "Requirement already satisfied: ipywidgets in /Users/alexandreniva/anaconda3/lib/python3.10/site-packages (8.1.5)\n",
      "Requirement already satisfied: comm>=0.1.3 in /Users/alexandreniva/anaconda3/lib/python3.10/site-packages (from ipywidgets) (0.2.2)\n",
      "Requirement already satisfied: widgetsnbextension~=4.0.12 in /Users/alexandreniva/anaconda3/lib/python3.10/site-packages (from ipywidgets) (4.0.13)\n",
      "Requirement already satisfied: ipython>=6.1.0 in /Users/alexandreniva/anaconda3/lib/python3.10/site-packages (from ipywidgets) (8.10.0)\n",
      "Requirement already satisfied: traitlets>=4.3.1 in /Users/alexandreniva/anaconda3/lib/python3.10/site-packages (from ipywidgets) (5.7.1)\n",
      "Requirement already satisfied: jupyterlab-widgets~=3.0.12 in /Users/alexandreniva/anaconda3/lib/python3.10/site-packages (from ipywidgets) (3.0.13)\n",
      "Requirement already satisfied: matplotlib-inline in /Users/alexandreniva/anaconda3/lib/python3.10/site-packages (from ipython>=6.1.0->ipywidgets) (0.1.6)\n",
      "Requirement already satisfied: pygments>=2.4.0 in /Users/alexandreniva/anaconda3/lib/python3.10/site-packages (from ipython>=6.1.0->ipywidgets) (2.19.1)\n",
      "Requirement already satisfied: decorator in /Users/alexandreniva/anaconda3/lib/python3.10/site-packages (from ipython>=6.1.0->ipywidgets) (5.1.1)\n",
      "Requirement already satisfied: prompt-toolkit<3.1.0,>=3.0.30 in /Users/alexandreniva/anaconda3/lib/python3.10/site-packages (from ipython>=6.1.0->ipywidgets) (3.0.36)\n",
      "Requirement already satisfied: stack-data in /Users/alexandreniva/anaconda3/lib/python3.10/site-packages (from ipython>=6.1.0->ipywidgets) (0.2.0)\n",
      "Requirement already satisfied: pickleshare in /Users/alexandreniva/anaconda3/lib/python3.10/site-packages (from ipython>=6.1.0->ipywidgets) (0.7.5)\n",
      "Requirement already satisfied: appnope in /Users/alexandreniva/anaconda3/lib/python3.10/site-packages (from ipython>=6.1.0->ipywidgets) (0.1.2)\n",
      "Requirement already satisfied: jedi>=0.16 in /Users/alexandreniva/anaconda3/lib/python3.10/site-packages (from ipython>=6.1.0->ipywidgets) (0.18.1)\n",
      "Requirement already satisfied: pexpect>4.3 in /Users/alexandreniva/anaconda3/lib/python3.10/site-packages (from ipython>=6.1.0->ipywidgets) (4.8.0)\n",
      "Requirement already satisfied: backcall in /Users/alexandreniva/anaconda3/lib/python3.10/site-packages (from ipython>=6.1.0->ipywidgets) (0.2.0)\n",
      "Requirement already satisfied: parso<0.9.0,>=0.8.0 in /Users/alexandreniva/anaconda3/lib/python3.10/site-packages (from jedi>=0.16->ipython>=6.1.0->ipywidgets) (0.8.3)\n",
      "Requirement already satisfied: ptyprocess>=0.5 in /Users/alexandreniva/anaconda3/lib/python3.10/site-packages (from pexpect>4.3->ipython>=6.1.0->ipywidgets) (0.7.0)\n",
      "Requirement already satisfied: wcwidth in /Users/alexandreniva/anaconda3/lib/python3.10/site-packages (from prompt-toolkit<3.1.0,>=3.0.30->ipython>=6.1.0->ipywidgets) (0.2.5)\n"
     ]
    }
   ],
   "source": [
    "pip install --upgrade ipywidgets"
   ]
  }
 ],
 "metadata": {
  "kernelspec": {
   "display_name": "Python 3 (ipykernel)",
   "language": "python",
   "name": "python3"
  },
  "language_info": {
   "codemirror_mode": {
    "name": "ipython",
    "version": 3
   },
   "file_extension": ".py",
   "mimetype": "text/x-python",
   "name": "python",
   "nbconvert_exporter": "python",
   "pygments_lexer": "ipython3",
   "version": "3.10.9"
  },
  "widgets": {
   "application/vnd.jupyter.widget-state+json": {
    "state": {
     "0e2232ec5d2d4d27a603f1c8ef95bcaf": {
      "model_module": "@jupyter-widgets/base",
      "model_module_version": "2.0.0",
      "model_name": "LayoutModel",
      "state": {}
     },
     "0f3e891ee8c14cf9ae98f6e09e235cd3": {
      "model_module": "@jupyter-widgets/base",
      "model_module_version": "2.0.0",
      "model_name": "LayoutModel",
      "state": {}
     },
     "128910a1828045d394111c748769ec47": {
      "model_module": "@jupyter-widgets/controls",
      "model_module_version": "2.0.0",
      "model_name": "DescriptionStyleModel",
      "state": {
       "description_width": "initial"
      }
     },
     "12a38096d54540eeafdb030d36e17508": {
      "model_module": "@jupyter-widgets/controls",
      "model_module_version": "2.0.0",
      "model_name": "DescriptionStyleModel",
      "state": {
       "description_width": "initial"
      }
     },
     "134cb2d3c9a34887a96d33906fbac5dd": {
      "model_module": "@jupyter-widgets/base",
      "model_module_version": "2.0.0",
      "model_name": "LayoutModel",
      "state": {}
     },
     "18e425446bec4d9395f9ccceff3813b4": {
      "model_module": "@jupyter-widgets/base",
      "model_module_version": "2.0.0",
      "model_name": "LayoutModel",
      "state": {}
     },
     "1d5894ef74c1404b8a402594a3e232ea": {
      "model_module": "@jupyter-widgets/base",
      "model_module_version": "2.0.0",
      "model_name": "LayoutModel",
      "state": {}
     },
     "26c667fdecb24089a44e068d798635d3": {
      "model_module": "@jupyter-widgets/output",
      "model_module_version": "1.0.0",
      "model_name": "OutputModel",
      "state": {
       "layout": "IPY_MODEL_b9328b21507a44d38437e71144b93987",
       "outputs": [
        {
         "name": "stdout",
         "output_type": "stream",
         "text": "📥 Téléchargement des données...\n"
        },
        {
         "name": "stderr",
         "output_type": "stream",
         "text": "[*********             18%                       ]  166 of 931 completedFailed to get ticker 'ELIS SA' reason: ('Connection broken: IncompleteRead(5360 bytes read, 784 more expected)', IncompleteRead(5360 bytes read, 784 more expected))\n[********************* 44%                       ]  413 of 931 completedFailed to get ticker 'TF1 SA' reason: ('Connection broken: IncompleteRead(5360 bytes read, 678 more expected)', IncompleteRead(5360 bytes read, 678 more expected))\n[*********************100%***********************]  931 of 931 completed\n\n17 Failed downloads:\n['H&K AG', 'SCOR SE', 'COVIVIO', 'FREY SA', 'ELIS SA', 'EMEIS', 'SPIE SA', 'MEITUAN', 'SEB SA', 'TF1 SA', 'STEF SA', 'EXOSENS', 'AXA SA']: YFTzMissingError('$%ticker%: possibly delisted; no timezone found')\n['EI.PA', 'RNL.PA']: YFPricesMissingError('$%ticker%: possibly delisted; no price data found  (1d 2024-01-29 -> 2025-01-29)')\n['SLF.TO', 'CFG']: ConnectionError(ProtocolError('Connection aborted.', RemoteDisconnected('Remote end closed connection without response')))\n"
        },
        {
         "name": "stdout",
         "output_type": "stream",
         "text": "\n⚠️ ERREUR DE TÉLÉCHARGEMENT\n================================================================================\nArrêt : 918 échecs dépassent le seuil de 93. Tickers manquants : PROSF, ENX.PA, MBFJF, ORA.PA, TOELY, RTPPF, MHK, SHECY, HSY, PVH, SNPS, LTA.PA, BNP.PA, J, PCAR, 601988.SS, AMZN, ABI.BR, SJM, 601318.SS, SLB, EADSY, HP, MAC, AXP, TPR, SAP, VMC, CMXHF, SPOT, CMI, ARE, VU.PA, ALV.DE, EQIX, ENLAY, AIV, ACA.PA, THEP.PA, JPM-PC, HPQ, SGO.PA, ETL.PA, SBUX, AC.PA, ENI.MI, CARM.PA, CRWD, FE, ADM.L, SBGSF, OMC, SIE.DE, MRK, M, SNYNF, SWK, IRM, VIE.PA, MSCI, BAIN.PA, EQNR, PRGO, SWKS, BKNG, ALL, EIX, AMD, STZ, KOF.PA, PBCRF, EFX, EXR, UNM, ACGBF, OR.PA, GSK.L, IMB.L, UNBL.PA, RSG, BBVXF, STX, PFG, ALLE, GD, BASS.PA, TGT, SCR.PA, MRVL, DAL, ADI, PLX.PA, FANG, JBHT, LNSTY, MS-PI, AEE, MERY.PA, BAC-PE, CIHHF, ADBE, JNJ, BBVA.MC, AMT, DXC, PAYX, QBE.AX, EDEN.PA, BAC-PB, TMUS, EN.PA, DRI, SHW, USB-PH, NOV, AAL.L, ED, MTD, FLY.PA, RY.TO, BEN.PA, MS-PF, PFE, IBDRY, GLW, DGE.L, BABA, AEP, WELL, RF.PA, CAG, Elis SA, UNP, LEG, ALB, EW, WMT, IQV, ATE.PA, BBVA, KHC, TTFNF, STLAP.PA, TYL, IVSXF, WAB, WRB, EA, FDX, XRAY, CDA.PA, WFC-PY, FMC, PCCYF, VRTX, GM, JKHY, LB, PPL.TO, APA, Frey SA, USB, IITSF, ACN, AZNCF, AMAT, NTAP, QCOM, VRSK, ENEL.MI, SESG.PA, FMXUF, CFRHF, DELL, WLN.PA, SEE, VFC, IDCBY, ADM, FFIV, NCLH, VRLA.PA, BMO.TO, TSM, SLG, PEUG.PA, ANET, IAM.PA, NKE, SBGSY, PBR-A, ESS, RHI, COVH.PA, RF, WBC.AX, L, CNQ.TO, COTY.PA, ATO, DSY.PA, SFTBY, IPG, VIRP.PA, AAL, BACHY, DLTR, CRAV.PA, RIO.AX, CMA, MPNGF, PPWLM, COO, DG, ARG.PA, AMGN, HTHIY, NDAQ, LVMUY, TJX, TSLA, LPE.PA, LHX, KER.PA, EADSF, ZBH, PRU, AES, HON, DVA, HII, WOW.AX, ABBNY, NOC, SMFNF, CHGCF, ELEC.PA, DTEGF, VLO, HOG, CUAEF, BUR.PA, LKQ, TRMB, VNO, CICHF, CLX, EL, SHEL, SPGI, AIQUY, SMAWF, AIR.PA, HBI, JWN, TRP.TO, BK, TKOMY, STOHF, WU, F, MS-PE, DHR, PUM.DE, INTU, HES, NTDOF, PPL, WY, STE, EXC, ABT, IDCBF, NESN.SW, VOW3.DE, RHHBF, SFTBF, IBDSF, SCCO, NVDA, IBE.MC, PEG, XFAB.PA, RELX, SSNLF, ZBRA, SU.TO, RUI.PA, 601288.SS, TSCO, MKGAF, RCRUY, BAS.DE, CNP, TTWO, EXPE, ES.PA, TRI.PA, CNA.L, EBBNF, MET, GS-PA, AMUN.PA, NSRGF, DBSDY, PNGAY, BML-PJ, GDVTZ, MKC, HSIC, BIM.PA, FOXA, NWL, JCI, RMD, FII.PA, TKTT.PA, IEX, T, MAS, DLR, GOOG, IPS.PA, DTE.DE, PLNW.PA, CCI, S32.AX, CON.DE, RL, HRB, EQS.PA, PLTR, CPB, AAPL, UHS, SCHW, HESAY, IBKR, GE, ALK, MGM, Covivio, CHDRF, KEYS, LIN, MS-PK, CEN.PA, ES, COV.PA, EBAY, LLOY.L, ANZ.AX, HST, CBOE, NTTYY, BNPQY, CBRE, TMO, EC.PA, NONOF, ABNB, A, GLE.PA, GLO.PA, LDNXF, MNST, TEL, FOX, PNW, PSA, BR, CSUAY, BHPLF, STMPA.PA, DTE, ZAL.DE, LOUP.PA, APTV, KYCCF, AVB, DUK, MO, OVH.PA, TCTZF, SAP.DE, BTAFF, LR.PA, DIM.PA, CBA.AX, CHD, VETO.PA, WHR, IBM, DEC.PA, SBAC, ABBV, TXT, TT, AKE.PA, TDG, IR, KMX, RBT.PA, PH, AVY, ERA.PA, VAC.PA, HO.PA, ESLOF, INFO, AIQUF, ESOCF, EMR, DD, HNHPF, AVGO, VCT.PA, INTC, VRSN, ANSS, BCMXY, ERF.PA, AJG, FAST, ADSK, SCHP.PA, TE.PA, ATLCY, DOV, CSL.AX, COF, BML-PH, FLS, CHTR, AHT.L, ZTS, ZURVY, VTR, LOW, OPM.PA, PLD, LIN.DE, HTHIF, AKAM, BAC-PK, ZION, HLT, RHHVF, WBA, FTNT, XOM, VOW.DE, IDXX, PGR, ROK, ITV.L, KEY, BLV.PA, TROW, VIL.PA, SOI.PA, MPNGY, PWR, CA.PA, DASH, COIN, FITB, UAA, META, BATS.L, MTU.PA, SBKFF, VK.PA, MKKGY, ETR, DBG.PA, NAB.AX, CHRW, PUB.PA, SBT.PA, TRV, WFC, PYPL, K, AYV.PA, IDEXY, MOS, SAFRF, VIV.PA, KLAC, TKOMF, UDR, EVRG, CNDF.PA, AXAHF, MCO, WEBNF, KMB, RI.PA, TEP.PA, AMP, APD, HD, KO, TOELF, NUE, SAF.PA, AME, MSI, AWK, ORCL, DVN, GFC.PA, XIACY, LSS.PA, EOAN.DE, BMY, IP, EXN.PA, SRE, AAP, LHA.DE, ASML.AS, CVX, HSBC, ATLKY, PBCRY, GET.PA, FNAC.PA, MS, AF.PA, O, GOOGL, AON, CRM, CCL, BAX, LUV, PSBKF, CGXYY, LH, MMM, MUV2.DE, SO, CICHY, JPM-PD, BP.L, IT, ODET.PA, UNCRY, ENB.TO, LDOS, ECL, IDL.PA, GPC, MMC, NFLX, ODFL, YUM, MKTX, BIIB, CE, MLM, DE, TTE.PA, CPRT, MURGY, ETN, GIS, CHGCY, NAVI, KIM, SHOP, CTAS, MSFT, PG, WDAY, MMB.PA, AAGIY, ESLOY, FIS, OKE, CRLA.PA, XYL, AV.L, SAVE.PA, BBY, PM, ELIS.PA, RJF, BKFCF, Meituan, MAA, CAT, SAN.PA, BOL.PA, MURGF, MAU.PA, UPS, HIG, AZO, TEAM, UA, BA, CSCO, AAIGF, SPIE.PA, RBSPF, CSX, WM, 600519.SS, SIEGY, BYDDY, MAR, CNC, SMFG, SHOP.TO, BUDFF, BNPQF, RNO.PA, CMWAY, RACE, ITW, BB.PA, MCD, LYB, NVR, CF, PAYC, FLR, MFC.TO, MT.AS, IPN.PA, ALO.PA, HCP, ITOCY, KSS, BLK, DB1.DE, MCK, NEM, 1398.HK, BACHF, PROSY, LVMHF, 000651.SZ, GTT.PA, G.MI, WAVE.PA, HUM, CAP.PA, SNA, RMS.PA, GILD, CL, ALTA.PA, GDS.PA, DGX, CMG, ALGN, RTNTF, ROST, TFX, PNR, NTRS, FREY.PA, HSBA.L, TFF.PA, CSLLY, ENGI.PA, AUB.PA, ZFSVF, IFF, TFI.PA, NEX.PA, NWS, BHP.AX, TXN, MLHK.PA, CBDG.PA, VZ, BKR, URW.PA, NVSEF, RCRRF, QRVO, MDLZ, RXL.PA, BVI.PA, BYDDF, ICE, ADP.PA, ADP, SNEJF, COST, INGA.AS, PSX, URI, CDI.PA, SPG, UBER, BDX, IPGP, MUFG, PEP, LNT, LRLCY, CRSU.PA, RHHBY, BML-PL, LMT, SK.PA, UNH, ULTA, CHDRY, STF.PA, RWE.DE, HRL, BAC, REGN, ILMN, CI, CINF, AM.PA, JPM, JNPR, SOP.PA, LEN, NEE, NSC, ROL, CILJF, TOYOF, ITP.PA, PNC, UNCFF, NOKIA.HE, HAS, FGR.PA, NRO.PA, TCEHY, CBAUF, CAH, NTES, ISRG, WFC-PC, BABAF, MS-PA, CDNS, C, BAYN.DE, LI.PA, REG, PHM, MPC, NTDOY, INFY, SW.PA, BN.PA, RCO.PA, TKO.PA, RYCEF, BNS.TO, AFL, BRK-B, 2388.HK, DHI, MC.PA, DOW, XEL, HBCYF, NK.PA, V, SAPGF, MCHP, FDJ.PA, TFC, BML-PG, AIG, EQR, STT, BCDRF, WEC, RCL, CIIHF, PPG, D, TER, WYNN, LRCX, CAF.PA, BPAQF, UNLYF, USB-PP, DTEGY, ALIZF, NRG, CIHKY, AI.PA, GLAXF, FRE.DE, MU, HPE, XRX, GL, BEN, SU.PA, ABLZF, AXAHY, KR, UAL, MMT.PA, ABF.L, NI, AOS, HBAN, NPPXF, DGEAF, GPN, LNC, BARC.L, CB, RYDAF, HCA, BA.L, SAFRY, DFS, NXI.PA, UBI.PA, BTI, FCX, OXY, FR.PA, CS.PA, ITOCF, LLY, CVS, HAL, SNPMF, TAP, NABZY, BMW.DE, DBK.DE, KMI, LGEN.L, MQG.AX, EOG, COFA.PA, NWSA, TLS.AX, IDEXF, FRCOF, ICAD.PA, SYY, ADS.DE, RLXXF, FMG.AX, CMS, FTV, MF.PA, PSTVY, AIZ, CBE.PA, EURUSD=X, ACGBY, EXPD, IVSBF, TSN, MSTR, LW, NSRGY, MTB, ROP, WMB, COP, LRLCF, XIACF, GWW, HOLX, ASML, 002475.SZ, BSX, APH, SDG.PA, QDT.PA, RLLCF, WAT, BWA, CRAP.PA, CMCSA, CME, GS-PD, IVZ, ALIZY, RDSA.VI, SONY, BXP, GS, WDC, FRCOY, MDT, RTX, ASMLF, ORLY, ISNPY, EMN, DBSDF, MA, CFRUY, STLA, DIS, EL.PA, ML.PA, DG.PA, PIAIF, INCY, TD.TO, ISP.MI\n"
        }
       ]
      }
     },
     "330308a93b8140da8066b3faee09ee57": {
      "model_module": "@jupyter-widgets/controls",
      "model_module_version": "2.0.0",
      "model_name": "IntSliderModel",
      "state": {
       "behavior": "drag-tap",
       "continuous_update": false,
       "description": "Top N Stocks:",
       "layout": "IPY_MODEL_18e425446bec4d9395f9ccceff3813b4",
       "max": 931,
       "min": 1,
       "style": "IPY_MODEL_a996cec4c0764e188aeaf68f24f6b97f",
       "value": 10
      }
     },
     "34865af53bcb416181e5a4eac9fab706": {
      "model_module": "@jupyter-widgets/base",
      "model_module_version": "2.0.0",
      "model_name": "LayoutModel",
      "state": {}
     },
     "34ac96223a9f40b8ae25b94b30fe699a": {
      "model_module": "@jupyter-widgets/output",
      "model_module_version": "1.0.0",
      "model_name": "OutputModel",
      "state": {
       "layout": "IPY_MODEL_8e5174fce97d45d5aed4177b22e650c9"
      }
     },
     "3a3112c4a6534921bb35140f854c5f05": {
      "model_module": "@jupyter-widgets/base",
      "model_module_version": "2.0.0",
      "model_name": "LayoutModel",
      "state": {}
     },
     "3c5c840c03864fc693ed518578db6b88": {
      "model_module": "@jupyter-widgets/base",
      "model_module_version": "2.0.0",
      "model_name": "LayoutModel",
      "state": {}
     },
     "5eb088e1c2ab4df59cf1a4017e7b5a3b": {
      "model_module": "@jupyter-widgets/controls",
      "model_module_version": "2.0.0",
      "model_name": "IntSliderModel",
      "state": {
       "behavior": "drag-tap",
       "continuous_update": false,
       "description": "Top N Stocks:",
       "layout": "IPY_MODEL_3c5c840c03864fc693ed518578db6b88",
       "max": 931,
       "min": 1,
       "style": "IPY_MODEL_ecea1dd37b7b4561bb69c8be90198dc3",
       "value": 10
      }
     },
     "6099be477a8447b3aa19d4e3c5abee21": {
      "model_module": "@jupyter-widgets/controls",
      "model_module_version": "2.0.0",
      "model_name": "SliderStyleModel",
      "state": {
       "description_width": ""
      }
     },
     "62f2bb6d18264be4a051e6d92197250a": {
      "model_module": "@jupyter-widgets/base",
      "model_module_version": "2.0.0",
      "model_name": "LayoutModel",
      "state": {}
     },
     "633fd9e31ad04b7db27d747a784f9937": {
      "model_module": "@jupyter-widgets/controls",
      "model_module_version": "2.0.0",
      "model_name": "SliderStyleModel",
      "state": {
       "description_width": ""
      }
     },
     "6eadb0b2a1da452ea70593931dd7e9e4": {
      "model_module": "@jupyter-widgets/controls",
      "model_module_version": "2.0.0",
      "model_name": "FloatTextModel",
      "state": {
       "description": "Sharpe Weight:",
       "layout": "IPY_MODEL_0f3e891ee8c14cf9ae98f6e09e235cd3",
       "step": null,
       "style": "IPY_MODEL_cc66f33df7c44a508784a8251fb6850b",
       "value": 0.4
      }
     },
     "6f82bf9b55214cf29eeecd5c3e42b76c": {
      "model_module": "@jupyter-widgets/controls",
      "model_module_version": "2.0.0",
      "model_name": "DescriptionStyleModel",
      "state": {
       "description_width": "initial"
      }
     },
     "7954646299444711bd2dd765d3186d43": {
      "model_module": "@jupyter-widgets/controls",
      "model_module_version": "2.0.0",
      "model_name": "FloatTextModel",
      "state": {
       "description": "Momentum Weight:",
       "layout": "IPY_MODEL_34865af53bcb416181e5a4eac9fab706",
       "step": null,
       "style": "IPY_MODEL_9f23d6a16b294a3fb13dbff2a24b7982",
       "value": 0.6
      }
     },
     "7d393b25d3dc46e4a74ffa0170ebbe26": {
      "model_module": "@jupyter-widgets/controls",
      "model_module_version": "2.0.0",
      "model_name": "FloatTextModel",
      "state": {
       "description": "Momentum Weight:",
       "layout": "IPY_MODEL_edce826557e942b79f2bcafccba856d4",
       "step": null,
       "style": "IPY_MODEL_6f82bf9b55214cf29eeecd5c3e42b76c",
       "value": 0.6
      }
     },
     "806bee43cf99478ca346ab5d95fabe8a": {
      "model_module": "@jupyter-widgets/base",
      "model_module_version": "2.0.0",
      "model_name": "LayoutModel",
      "state": {}
     },
     "880e8f48595a493f829ba707f67b6dd4": {
      "model_module": "@jupyter-widgets/controls",
      "model_module_version": "2.0.0",
      "model_name": "DescriptionStyleModel",
      "state": {
       "description_width": "initial"
      }
     },
     "88549e3649094e7689c15b85874aeccb": {
      "model_module": "@jupyter-widgets/controls",
      "model_module_version": "2.0.0",
      "model_name": "FloatTextModel",
      "state": {
       "description": "Sharpe Weight:",
       "layout": "IPY_MODEL_1d5894ef74c1404b8a402594a3e232ea",
       "step": null,
       "style": "IPY_MODEL_abd0e57f496247e1a608d3e65a037c05",
       "value": 0.4
      }
     },
     "8e5174fce97d45d5aed4177b22e650c9": {
      "model_module": "@jupyter-widgets/base",
      "model_module_version": "2.0.0",
      "model_name": "LayoutModel",
      "state": {}
     },
     "906d17a2edce4957b558613a2b002cf5": {
      "model_module": "@jupyter-widgets/controls",
      "model_module_version": "2.0.0",
      "model_name": "ButtonStyleModel",
      "state": {
       "font_family": null,
       "font_size": null,
       "font_style": null,
       "font_variant": null,
       "font_weight": null,
       "text_color": null,
       "text_decoration": null
      }
     },
     "9f008d42a6da4627a5a1ce3ca70caaca": {
      "model_module": "@jupyter-widgets/controls",
      "model_module_version": "2.0.0",
      "model_name": "ButtonModel",
      "state": {
       "description": "Analyze Portfolio",
       "layout": "IPY_MODEL_0e2232ec5d2d4d27a603f1c8ef95bcaf",
       "style": "IPY_MODEL_906d17a2edce4957b558613a2b002cf5",
       "tooltip": null
      }
     },
     "9f23d6a16b294a3fb13dbff2a24b7982": {
      "model_module": "@jupyter-widgets/controls",
      "model_module_version": "2.0.0",
      "model_name": "DescriptionStyleModel",
      "state": {
       "description_width": "initial"
      }
     },
     "a0633355a21d44d5b4a4ba942b3b64a0": {
      "model_module": "@jupyter-widgets/base",
      "model_module_version": "2.0.0",
      "model_name": "LayoutModel",
      "state": {}
     },
     "a996cec4c0764e188aeaf68f24f6b97f": {
      "model_module": "@jupyter-widgets/controls",
      "model_module_version": "2.0.0",
      "model_name": "SliderStyleModel",
      "state": {
       "description_width": ""
      }
     },
     "abd0e57f496247e1a608d3e65a037c05": {
      "model_module": "@jupyter-widgets/controls",
      "model_module_version": "2.0.0",
      "model_name": "DescriptionStyleModel",
      "state": {
       "description_width": "initial"
      }
     },
     "b9328b21507a44d38437e71144b93987": {
      "model_module": "@jupyter-widgets/base",
      "model_module_version": "2.0.0",
      "model_name": "LayoutModel",
      "state": {}
     },
     "c46737eff3e74916954a07f0bce8404b": {
      "model_module": "@jupyter-widgets/controls",
      "model_module_version": "2.0.0",
      "model_name": "FloatTextModel",
      "state": {
       "description": "Max Volatility:",
       "layout": "IPY_MODEL_d5bfff84197d408b9993b4e42052f0fe",
       "step": null,
       "style": "IPY_MODEL_12a38096d54540eeafdb030d36e17508",
       "value": 0.25
      }
     },
     "c5e347faa298476184bcd14e972e145d": {
      "model_module": "@jupyter-widgets/controls",
      "model_module_version": "2.0.0",
      "model_name": "ButtonStyleModel",
      "state": {
       "font_family": null,
       "font_size": null,
       "font_style": null,
       "font_variant": null,
       "font_weight": null,
       "text_color": null,
       "text_decoration": null
      }
     },
     "cc66f33df7c44a508784a8251fb6850b": {
      "model_module": "@jupyter-widgets/controls",
      "model_module_version": "2.0.0",
      "model_name": "DescriptionStyleModel",
      "state": {
       "description_width": "initial"
      }
     },
     "ce3a52f2a8ae4758b98f266138c919a0": {
      "model_module": "@jupyter-widgets/controls",
      "model_module_version": "2.0.0",
      "model_name": "FloatTextModel",
      "state": {
       "description": "Total Amount (€):",
       "layout": "IPY_MODEL_3a3112c4a6534921bb35140f854c5f05",
       "step": null,
       "style": "IPY_MODEL_880e8f48595a493f829ba707f67b6dd4",
       "value": 1000
      }
     },
     "d1d66fa8980347a095086a6ed34667cb": {
      "model_module": "@jupyter-widgets/controls",
      "model_module_version": "2.0.0",
      "model_name": "FloatTextModel",
      "state": {
       "description": "Total Amount (€):",
       "layout": "IPY_MODEL_134cb2d3c9a34887a96d33906fbac5dd",
       "step": null,
       "style": "IPY_MODEL_fc010eaa7d1f43ccb45486859c58ec80",
       "value": 2000
      }
     },
     "d2581951518e425aa474a47727609cfe": {
      "model_module": "@jupyter-widgets/base",
      "model_module_version": "2.0.0",
      "model_name": "LayoutModel",
      "state": {}
     },
     "d5bfff84197d408b9993b4e42052f0fe": {
      "model_module": "@jupyter-widgets/base",
      "model_module_version": "2.0.0",
      "model_name": "LayoutModel",
      "state": {}
     },
     "e2848a12c88d44609d3d6aced659ca6d": {
      "model_module": "@jupyter-widgets/controls",
      "model_module_version": "2.0.0",
      "model_name": "FloatTextModel",
      "state": {
       "description": "Max Volatility:",
       "layout": "IPY_MODEL_62f2bb6d18264be4a051e6d92197250a",
       "step": null,
       "style": "IPY_MODEL_128910a1828045d394111c748769ec47",
       "value": 0.3
      }
     },
     "e5abc9f46c92490388ae9fe5b4eac45f": {
      "model_module": "@jupyter-widgets/controls",
      "model_module_version": "2.0.0",
      "model_name": "IntSliderModel",
      "state": {
       "behavior": "drag-tap",
       "continuous_update": false,
       "description": "Clusters:",
       "layout": "IPY_MODEL_a0633355a21d44d5b4a4ba942b3b64a0",
       "max": 931,
       "min": 1,
       "style": "IPY_MODEL_6099be477a8447b3aa19d4e3c5abee21",
       "value": 3
      }
     },
     "ecea1dd37b7b4561bb69c8be90198dc3": {
      "model_module": "@jupyter-widgets/controls",
      "model_module_version": "2.0.0",
      "model_name": "SliderStyleModel",
      "state": {
       "description_width": ""
      }
     },
     "edce826557e942b79f2bcafccba856d4": {
      "model_module": "@jupyter-widgets/base",
      "model_module_version": "2.0.0",
      "model_name": "LayoutModel",
      "state": {}
     },
     "f1bb41e875c44171b011e8332e53c55d": {
      "model_module": "@jupyter-widgets/controls",
      "model_module_version": "2.0.0",
      "model_name": "IntSliderModel",
      "state": {
       "behavior": "drag-tap",
       "continuous_update": false,
       "description": "Clusters:",
       "layout": "IPY_MODEL_d2581951518e425aa474a47727609cfe",
       "max": 931,
       "min": 1,
       "style": "IPY_MODEL_633fd9e31ad04b7db27d747a784f9937",
       "value": 10
      }
     },
     "f713a1216b784c5db5d35708a077d910": {
      "model_module": "@jupyter-widgets/controls",
      "model_module_version": "2.0.0",
      "model_name": "ButtonModel",
      "state": {
       "description": "Analyze Portfolio",
       "layout": "IPY_MODEL_806bee43cf99478ca346ab5d95fabe8a",
       "style": "IPY_MODEL_c5e347faa298476184bcd14e972e145d",
       "tooltip": null
      }
     },
     "fc010eaa7d1f43ccb45486859c58ec80": {
      "model_module": "@jupyter-widgets/controls",
      "model_module_version": "2.0.0",
      "model_name": "DescriptionStyleModel",
      "state": {
       "description_width": "initial"
      }
     }
    },
    "version_major": 2,
    "version_minor": 0
   }
  }
 },
 "nbformat": 4,
 "nbformat_minor": 5
}
